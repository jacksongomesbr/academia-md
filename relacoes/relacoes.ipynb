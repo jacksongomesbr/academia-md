{
 "cells": [
  {
   "cell_type": "code",
   "execution_count": 1,
   "metadata": {
    "collapsed": true
   },
   "outputs": [],
   "source": [
    "%matplotlib inline\n",
    "import numpy as np\n",
    "import matplotlib.pyplot as plt\n",
    "from pylab import *"
   ]
  },
  {
   "cell_type": "markdown",
   "metadata": {},
   "source": [
    "# Relações\n",
    "\n",
    "Considere as relações a seguir, presentes no cotidiano:\n",
    "* parentesco\n",
    "* maior ou igual\n",
    "* igualdade\n",
    "* lista telefônica que associa a cada assinante o seu número (ou números) de telefone\n",
    "* faz fronteira com\n",
    "* filas de pessoas para os diversos caixas em um banco\n",
    "\n",
    "Suponha os conjuntos $A$ e $B$. Uma *relação* $R$ de $A$ em $B$ é um subconjunto de um produto cartesiano $A \\times B$, ou seja:\n",
    "\n",
    "\\begin{align*}\n",
    "R \\subseteq A \\times B\n",
    "\\end{align*}\n",
    "\n",
    "ou\n",
    "\n",
    "\\begin{align*}\n",
    "R : A \\rightarrow B\n",
    "\\end{align*}\n",
    "\n",
    "\n",
    "sendo que:\n",
    "* $A$ é o *domínio* (origem ou conjunto de partida de $R$)\n",
    "* $B$ é o *contradomínio* (destino ou conjunto de chegada de $R$)\n",
    "\n",
    "Os elementos de $R$ são pares (ou tuplas) dos elementos de $A$ e $B$, ou seja:\n",
    "\n",
    "\\begin{align*}\n",
    "(a, b) \\in R\n",
    "\\end{align*}\n",
    "\n",
    "ou \n",
    "\n",
    "\\begin{align*}\n",
    "a \\, R \\, b\n",
    "\\end{align*}\n",
    "\n",
    "Uma relação pode ser caracterizada por uma propriedade. Neste caso, na notação de relação ($R : A \\rightarrow B$), $R$ assume uma propriedade. Por exemplo $\\mbox{=} : A \\rightarrow B$ define a relação de igualdade entre os conjuntos $A$ e $B$ tal que os elementos de $A$ sejam iguais aos elementos de $B$. Em outras palavras, os componentes das tuplas da relação $R$ terão que respeitar a propriedade de igualdade. A tupla $(a, a)$ estaria presente na relação de igualdade de $A$ em $B$.\n",
    "\n",
    "Considere Os seguintes conjuntos: $A = \\{a\\}$, $B = \\{a, b\\}$ e $C = \\{0, 1, 2\\}$. É válido afirmar que:\n",
    "* $\\{\\}$ é uma relação de $A$ em $B$ pois o conjunto vazio é subconjunto de qualquer conjunto\n",
    "* $A \\times B = \\{(a,a), (a,b)\\}$ é uma relação de $A$ em $B$\n",
    "* $\\mbox{=} : A \\rightarrow A = \\{ (a, a) \\}$\n",
    "* $\\mbox{=} : A \\rightarrow B = \\{ (a, a) \\}$\n",
    "* $\\lt : C \\rightarrow C = \\{ (0, 1), (1, 2) \\}$\n",
    "\n",
    "**Exercício 3.1**: Defina as relações:\n",
    "1. $\\neq : B \\rightarrow C$\n",
    "2. $\\neq : A \\rightarrow B$\n",
    "\n",
    "## Endorrelação\n",
    "\n",
    "Um tipo de relação é a que considere o mesmo conjunto, ou seja $R : A \\rightarrow A$ (domínio e contradomínio são o mesmo conjunto). Uma endorrelação $R : A \\rightarrow A$ pode ser denotada por: $(A, R)$. Por exemplo.\n",
    "1. $(N, \\leq)$\n",
    "2. $(P(A), \\subseteq)$\n",
    "\n",
    "## Representações gráficas de relações\n",
    "\n",
    "As relações podem ser representadas como diagramas de Venn, gráficos em um plano cartesiano ou grafos. A seguir, as seções demonstram como isso pode ser realizado.\n",
    "\n",
    "### Relações como diagramas de Venn\n",
    "\n",
    "Diagramas de Venn podem ser utilizados para representar visualmente relações. Na figura a seguir o diagrama da esquerda representa a relação $= : A \\rightarrow B$ e, o da esquerda, a relação $\\leq : C \\rightarrow C$. \n",
    "\n",
    "![Relações como diagramas de Venn](relacao-diagrama-de-venn.png)\n",
    "\n",
    "Em diagramas de Venn, o conjunto da esquerda é comumente chamado de *domínio* e o da esquerda de *imagem*.\n",
    "\n",
    "### Relações como planos cartesianos\n",
    "\n",
    "Gráficos em planos cartesianos podem representar relações. Em um plano cartesiano de duas dimensões, os eixos representam os conjuntos. Por exemplo, a relação $R = \\{ (x, y) | y = sen(x)\\}$ pode ser representada pelo gráfico a seguir:"
   ]
  },
  {
   "cell_type": "code",
   "execution_count": 2,
   "metadata": {
    "collapsed": false
   },
   "outputs": [
    {
     "data": {
      "text/plain": [
       "[<matplotlib.lines.Line2D at 0x8bc7290>]"
      ]
     },
     "execution_count": 2,
     "metadata": {},
     "output_type": "execute_result"
    },
    {
     "data": {
      "image/png": "[encoded data removed]",
      "text/plain": [
       "<matplotlib.figure.Figure at 0x8d19c30>"
      ]
     },
     "metadata": {},
     "output_type": "display_data"
    }
   ],
   "source": [
    "x = linspace(-10, 10)\n",
    "y = sin(x)\n",
    "plt.plot(x, y)"
   ]
  },
  {
   "cell_type": "markdown",
   "metadata": {},
   "source": [
    "A relação $R = \\{ (x, y) | y = x^2 \\}$ pode ser representada pelo gráfico a seguir:"
   ]
  },
  {
   "cell_type": "code",
   "execution_count": 3,
   "metadata": {
    "collapsed": false
   },
   "outputs": [
    {
     "data": {
      "text/plain": [
       "[<matplotlib.lines.Line2D at 0x913fd10>]"
      ]
     },
     "execution_count": 3,
     "metadata": {},
     "output_type": "execute_result"
    },
    {
     "data": {
      "image/png": "[encoded data removed]",
      "text/plain": [
       "<matplotlib.figure.Figure at 0x8e5ad30>"
      ]
     },
     "metadata": {},
     "output_type": "display_data"
    }
   ],
   "source": [
    "x = linspace(-10, 10)\n",
    "y = x ** 2\n",
    "plt.plot(x, y)"
   ]
  },
  {
   "cell_type": "markdown",
   "metadata": {},
   "source": [
    "### Relações como grafos\n",
    "\n",
    "A representação de grafos aplica-se apenas a *endorrelações*. Grafos podem ser representados como matrizes e como diagramas de vértices e arestas. \n",
    "\n",
    "Considere os conjuntos $A = \\{ a \\}$, $B = \\{ a, b \\}$ e $C = \\{ 0, 1, 2 \\}$.\n",
    "\n",
    "A relação $= : B \\rightarrow B$, definida por $\\{ (a, a), (b, b) \\}$ seria representada pela matriz e pelo grafo a seguir.\n",
    "\n",
    "![Relações como matrizes e grafos](relacao-grafo-1.png)\n",
    "\n",
    "A relação $\\leq : C \\rightarrow C$ seria representada pela matriz e pelo grafo a seguir:\n",
    "\n",
    "![Relações como matrizes e grafos](relacao-grafo-2.png)"
   ]
  },
  {
   "cell_type": "markdown",
   "metadata": {},
   "source": [
    "# Propriedades de endorrelações\n",
    "\n",
    "## Reflexiva, irreflexiva\n",
    "\n",
    "Seja $A$ um conjunto e $R$ uma endorrelação em $A$, então $R$ é uma:\n",
    "\n",
    "a) **relação reflexiva**, se $(\\forall a \\in A)(a \\, R \\, a)$. Em outras palavras, a relação é reflexiva se o conjunto de todos os pares em que o primeiro componente é igual ao segundo for subconjunto dela:\n",
    "\n",
    "\\begin{align*}\n",
    "\\{(a,a) \\mid a \\in A\\} \\subseteq R\n",
    "\\end{align*}\n",
    "\n",
    "b) **relação irreflexiva** ou **relação antirreflexiva**, se $(\\forall a \\in A)(\\neg(a \\, R \\, a))$. Em outras palavras, a relação é irreflexiva se ela for subconjunto do conjunto de todos os pares em que o primeiro componente é diferente do segundo:\n",
    "\n",
    "\\begin{align*}\n",
    "R \\subseteq \\{\\neg(a,a) \\mid a \\in A\\} \n",
    "\\end{align*}\n",
    "\n",
    "**Exemplos: Seja $A=\\{a, b\\}$. Conjuntos importantes:**\n",
    "* $A^2 = \\{(a,a),(a,b),(b,a),(b,b)\\}$. \n",
    "* conjunto dos pares em que o primeiro componente é igual ao segundo $CI = \\{(a,a),(b,b)\\}$\n",
    "* conjunto dos pares em que o primeiro componente é diferente do segundo $CD = \\{(a,b),(b,a)\\}$\n",
    "\n",
    "As seguintes relações são:\n",
    "\n",
    "a) Reflexivas:\n",
    "\n",
    "* $R_1 = \\{(a,a),(b,b)\\}$\n",
    "* $R_2 = \\{(a,a),(a,b),(b,b)\\}$, pois $CI \\subseteq R_2$\n",
    "* $R_3 = \\{(a,a),(b,b),(b,a)\\}$\n",
    "* $R_4 = \\{(a,a),(a,b),(b,a),(b,b)\\}$\n",
    "\n",
    "b) Irreflexivas:\n",
    "\n",
    "* $R_5 = \\{(a,b),(b,a)\\}$\n",
    "* $R_6 = \\{(a,b)\\}$, pois $R_6 \\subseteq CD$\n",
    "* $R_7 = \\{(b,a)\\}$\n",
    "* $R_8 = \\{\\}$, pois $R_8 \\subseteq CD$\n",
    "\n",
    "Considere $S = \\{0,1,2\\}$. Conjuntos importantes:\n",
    "* $S^2 = \\{(0,0),(0,1),(0,2),(1,0),(1,1),(1,2),(2,0),(2,1),(2,2)\\}$\n",
    "* conjunto dos pares em que o primeiro componente é igual ao segundo $CI = \\{(0,0),(1,1),(2,2)\\}$\n",
    "* conjunto dos pares em que o primeiro componente é diferente do segundo $CD = \\{(0,1),(0,2),(1,0),(1,2),(2,0),(2,1)\\}$\n",
    "\n",
    "A seguinte relação é não reflexiva e não irreflexiva:\n",
    "\n",
    "* $(S,R) = \\{(0,2),(2,0),(2,2)\\}$ pois $CI \\nsubseteq (S,R)$ e $(S,R) \\nsubseteq CD$\n",
    "\n",
    "\n",
    "### Reflexividade de relações em matrizes e grafos\n",
    "\n",
    "Para um conjunto $A$ uma forma simples de entender e verificar se uma endorrelação $R : A \\to A$ é reflexiva ou irreflexiva é analisar a sua representação como matriz ou grafo:\n",
    "\n",
    "a) **Matriz**\n",
    "\n",
    "* Reflexiva: a diagonal da matriz contém somente o valor verdadeiro\n",
    "* Irreflexiva: a diagonal da matriz contém somente o valor falso\n",
    "\n",
    "b) **Grafo**\n",
    "\n",
    "* Reflexiva: qualquer nó tem um arco com origem e destino nele mesmo\n",
    "* Irreflexiva: qualquer nó não tem um arco com origem e destino nele mesmo\n",
    "\n",
    "\n",
    "## Simétrica, assimétrica\n",
    "\n",
    "Seja $A$ um conjunto e $R$ uma endorrelação em $A$, então $R$ é uma:\n",
    "\n",
    "a) **relação simétrica**, se $(\\forall a,b \\in A)(a \\, R \\, b \\to b \\, R \\, a)$. Em outras palavras, a relação é simétrica se for subconjunto do conjunto de todos os pares formados por dois elementos $a$ e $b$ quaisquer em que se houver $(a,b)$ também haverá $(b,a)$ for subconjunto dela:\n",
    "\n",
    "\\begin{align*}\n",
    "R \\subseteq \\{(a,b) \\to (b,a) \\mid a, b \\in A\\}. \n",
    "\\end{align*}\n",
    "\n",
    "b) **relação antissimétrica**, $(\\forall a, b \\in A), (a \\, R \\, b \\land a \\neq b) \\implies (\\neg b \\, R \\, a)$. Em outras palavras, a relação é antissimétrica se, havendo o par $(a,b$), com $a \\neq b$, então não pode haver o par $(b,a)$.\n",
    "\n",
    "**Exemplos: Seja $A=\\{a, b\\}$. Conjuntos importantes:** \n",
    "* $A^2 = \\{(a,a),(a,b),(b,a),(b,b)\\}$. \n",
    "* conjunto dos pares em que se houver $(a,b)$ também há $(b,a)$ = $CS = A^2$\n",
    "* conjunto dos pares em que se $a = b$ então há $(a,b)$ e $(b,a)$, $CA = \\{(a,a),(b,b)\\}$\n",
    "\n",
    "As seguintes relações são:\n",
    "\n",
    "a) Simétricas:\n",
    "\n",
    "* $R_8 = \\{\\}$\n",
    "* $R_5 = \\{(a,b),(b,a)\\}$\n",
    "* $R_9 = \\{(a,a)\\}$\n",
    "* $R_{10} = \\{(b,b)\\}$\n",
    "* $R_1 = \\{(a,a),(b,b)\\}$\n",
    "* $R_{11} = \\{(a,a),(a,b),(b,a)\\}$\n",
    "* $R_{12} = \\{(a,b),(b,a),(b,b)\\}$\n",
    "* $R_4 = \\{(a,a),(a,b),(b,a),(b,b)\\}$\n",
    "\n",
    "b) Antissimétricas:\n",
    "\n",
    "* $R_1 = \\{(a,a),(b,b)\\}$\n",
    "* $R_2 = \\{(a,a),(a,b),(b,b)\\}$\n",
    "* $R_3 = \\{(a,a),(b,b),(b,a)\\}$\n",
    "* $R_6 = \\{(a,b)\\}$\n",
    "* $R_8 = \\{\\}$\n",
    "\n",
    "### Simétrica, antissimétrica em matrizes e grafos\n",
    "\n",
    "Para um conjunto $A$ uma forma simples de entender e verificar se uma endorrelação $R : A \\to A$ é simétrica ou antissimétrica é analisar a sua representação como matriz ou grafo:\n",
    "\n",
    "a) **Matriz**\n",
    "\n",
    "* Simétrica: a metade acima ou abaixo da diagonal é espelhada na outra\n",
    "* Antissimétrica: se uma célula em uma metade da diagonal for verdadeira, a correspondente na outra metade é falsa\n",
    "\n",
    "b) **Grafo**\n",
    "\n",
    "* Simétrica: entre dois nós: a) não existe seta; ou b) existem duas setas, uma em cada sentido\n",
    "* Antissimétrica: há no máximo uma seta entre dois nós quaisquer\n",
    "\n",
    "\n",
    "## Transitiva, não transitiva\n",
    "\n",
    "Seja $A$ um conjunto e $R$ uma endorrelação em $A$, então $R$ é uma:\n",
    "\n",
    "a) **relação transitiva** se $(\\forall a, b, c \\in A), (a \\, R \\, b \\land b \\, R \\, c \\to a \\, R \\, c)$.\n",
    "\n",
    "b) **relação não-transitiva** é o contrário da relação transitiva."
   ]
  }
 ],
 "metadata": {
  "kernelspec": {
   "display_name": "Python 3",
   "language": "python",
   "name": "python3"
  },
  "language_info": {
   "codemirror_mode": {
    "name": "ipython",
    "version": 3
   },
   "file_extension": ".py",
   "mimetype": "text/x-python",
   "name": "python",
   "nbconvert_exporter": "python",
   "pygments_lexer": "ipython3",
   "version": "3.4.4"
  }
 },
 "nbformat": 4,
 "nbformat_minor": 0
}
