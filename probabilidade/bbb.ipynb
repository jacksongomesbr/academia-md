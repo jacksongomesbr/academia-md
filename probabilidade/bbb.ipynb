{
 "cells": [
  {
   "cell_type": "code",
   "execution_count": 16,
   "metadata": {
    "collapsed": true
   },
   "outputs": [],
   "source": [
    "from funcoes import *"
   ]
  },
  {
   "cell_type": "markdown",
   "metadata": {},
   "source": [
    "# Bayes, Bayes, baby\n",
    "\n",
    "O conteúdo anterior apresentou conceitos fundamentais de Probabilidade e uma das principais ferramentas, o *Teorema de Bayes*. Esta seção vai acrescentar ao capítulo trazendo uma leitura e uma aplicação prática.\n",
    "\n",
    "## Dados\n",
    "\n",
    "Considere um conjunto de dados com informações sobre pessoas (sexo, idade e renda familiar):\n",
    "\n",
    "```\n",
    "sexo;idade;rendafamiliar\n",
    "F;20;2000\n",
    "M;19;3000\n",
    "M;19;3000\n",
    "M;20;2500\n",
    "M;21;3000\n",
    "```\n",
    "\n",
    "O conjunto de dados está no formato CSV (valores separados por vírgula -- nesse caso, ponto-e-vírgula). Cada linha do conjunto de dados representa um indivíduo (uma pessoa) no conjunto de dados. "
   ]
  },
  {
   "cell_type": "markdown",
   "metadata": {},
   "source": [
    "A partir desse conjunto de dados, vamos fazer algumas análises.\n",
    "\n",
    "Imagine que uma nova pessoa respondeu a pesquisa, mas não se sabe nada dela, ainda. Qual a probabilidade de essa nova pessoa ser do sexo masculino? Para resolver essa questão, vamos utilizar as ferramentas anteriores. A primeira delas é a distribuição de probabilidade, enumerando o conjunto de dados e a quantidade de ocorrências de cada sexo."
   ]
  },
  {
   "cell_type": "code",
   "execution_count": 17,
   "metadata": {
    "collapsed": false
   },
   "outputs": [
    {
     "data": {
      "text/plain": [
       "{'Sexo_F': 0.2, 'Sexo_M': 0.8}"
      ]
     },
     "execution_count": 17,
     "metadata": {},
     "output_type": "execute_result"
    }
   ],
   "source": [
    "PDSexo = ProbDist(\n",
    "    Sexo_M=4,\n",
    "    Sexo_F=1\n",
    ")\n",
    "\n",
    "PDSexo"
   ]
  },
  {
   "cell_type": "markdown",
   "metadata": {},
   "source": [
    "Na sequência, dois predicados:"
   ]
  },
  {
   "cell_type": "code",
   "execution_count": 18,
   "metadata": {
    "collapsed": true
   },
   "outputs": [],
   "source": [
    "def sexo_m(r): return 'Sexo_M' in r\n",
    "def sexo_f(r): return 'Sexo_F' in r"
   ]
  },
  {
   "cell_type": "markdown",
   "metadata": {},
   "source": [
    "Assim, podemos calcular a probabilidade de um novo indivíduo ser do sexo masculino."
   ]
  },
  {
   "cell_type": "code",
   "execution_count": 19,
   "metadata": {
    "collapsed": false
   },
   "outputs": [
    {
     "data": {
      "text/plain": [
       "0.8"
      ]
     },
     "execution_count": 19,
     "metadata": {},
     "output_type": "execute_result"
    }
   ],
   "source": [
    "P(sexo_m, PDSexo)"
   ]
  },
  {
   "cell_type": "markdown",
   "metadata": {},
   "source": [
    "O que $0,8$ (ou $80\\%$) quer dizer? Chamamos isso de probabilidade independente, pois estamos considerando que a variável \"sexo\" não depende de outra variável do conjunto de dados. Variável? Isso, esse é o termo usado, mas é uma coluna no conjunto de dados.\n",
    "\n",
    "Outra forma de enxergar isso é perceber que a frequência (aqui diretamente relacionada à probabilidade) é $\\frac{4}{5} = 0.8$.\n",
    "\n",
    "\\begin{align*}\n",
    "A = \\mbox{conjunto das pessoas do sexo masculino} \\\\\n",
    "S = \\mbox{conjunto das pessoas} \\\\\n",
    "P(Sexo=M) = P(A) = \\frac{\\mid A \\mid}{\\mid S \\mid} = \\frac{4}{5} = 0.8\n",
    "\\end{align*}\n",
    "\n",
    "Perceba que se fôssemos fazer uma manchete disso, ficaria mais interessante algo como:\n",
    "\n",
    "**8 em cada 10 pessoas são homens**\n",
    "\n",
    "Claro, a relação se mantém. Verifique.\n",
    "\n",
    "Imagine que você continuou olhando para os dados e ficou curioso. De repente, vem a pergunta: **e como fazer para a idade?**. Talvez sua pergunta venha do fato de que tentou imaginar que seria pouco produtivo gerar a probabilidade de cada idade possível. Considerando idades entre 20 e 59 anos, por exemplo, não seria difícil gerar as probabilidades individuais para cada idade, mas isso não seria prático.\n",
    "\n",
    "Nesses casos, a técnica é usar uma categorização da variável \"idade\". Assim:\n",
    "* até 20 anos -> categoria A\n",
    "* 21 a 30 anos -> categoria B\n",
    "* 31 a 50 anos -> categoria C\n",
    "* 51 anos ou mais -> categoria D\n",
    "\n",
    "Isso começa a deixar a situação mais interessante, pois podemos encontrar as quantidades das idades conforme as categorias e gerar a distribuição de probabilidade."
   ]
  },
  {
   "cell_type": "code",
   "execution_count": 20,
   "metadata": {
    "collapsed": false
   },
   "outputs": [
    {
     "data": {
      "text/plain": [
       "{'Idade_A': 0.8, 'Idade_B': 0.2, 'Idade_C': 0.0, 'Idade_D': 0.0}"
      ]
     },
     "execution_count": 20,
     "metadata": {},
     "output_type": "execute_result"
    }
   ],
   "source": [
    "PDIdades = ProbDist(\n",
    "    Idade_A=4,\n",
    "    Idade_B=1,\n",
    "    Idade_C=0,\n",
    "    Idade_D=0\n",
    ")\n",
    "\n",
    "PDIdades"
   ]
  },
  {
   "cell_type": "markdown",
   "metadata": {},
   "source": [
    "Alguns predicados:"
   ]
  },
  {
   "cell_type": "code",
   "execution_count": 21,
   "metadata": {
    "collapsed": true
   },
   "outputs": [],
   "source": [
    "def idade_A(r) : return 'Idade_A' in r\n",
    "def idade_B(r) : return 'Idade_B' in r\n",
    "def idade_C(r) : return 'Idade_C' in r\n",
    "def idade_D(r) : return 'Idade_D' in r"
   ]
  },
  {
   "cell_type": "markdown",
   "metadata": {},
   "source": [
    "Por fim, podemos responder: qual a probabilidade de uma pessoa estar na categoria de idade B (faixa de 21 a 30 anos)?"
   ]
  },
  {
   "cell_type": "code",
   "execution_count": 22,
   "metadata": {
    "collapsed": false
   },
   "outputs": [
    {
     "data": {
      "text/plain": [
       "0.2"
      ]
     },
     "execution_count": 22,
     "metadata": {},
     "output_type": "execute_result"
    }
   ],
   "source": [
    "P(idade_B, PDIdades)"
   ]
  },
  {
   "cell_type": "markdown",
   "metadata": {},
   "source": [
    "O raciocínio é o mesmo, se usarmos a contagem, a probilidade é:\n",
    "\n",
    "\\begin{align*}\n",
    "A = \\mbox{conjunto das pessoas com idade entre 21 e 30 anos (faixa B)} \\\\\n",
    "S = \\mbox{conjunto de todas as pessoas} \\\\\n",
    "P(Idade=B) = P(A) = \\frac{\\mid A \\mid}{\\mid S \\mid} = \\frac{1}{5} = 0.2\n",
    "\\end{align*}\n",
    "\n",
    "\n",
    "Ou, 2 em cada 10 pessoas estão na faixa de idade B (21 a 30 anos).\n",
    "\n",
    "Suponha que alguém tenha se questionado como responder a pergunta: dado que uma pessoa está na faixa etária B, qual a probabilidade de ser homem? Para responder isso, criamos uma distribuição de probabilidade conjunta:"
   ]
  },
  {
   "cell_type": "code",
   "execution_count": 23,
   "metadata": {
    "collapsed": false
   },
   "outputs": [
    {
     "data": {
      "text/plain": [
       "{'Sexo_F Idade_A': 0.16,\n",
       " 'Sexo_F Idade_B': 0.04,\n",
       " 'Sexo_F Idade_C': 0.0,\n",
       " 'Sexo_F Idade_D': 0.0,\n",
       " 'Sexo_M Idade_A': 0.64,\n",
       " 'Sexo_M Idade_B': 0.16,\n",
       " 'Sexo_M Idade_C': 0.0,\n",
       " 'Sexo_M Idade_D': 0.0}"
      ]
     },
     "execution_count": 23,
     "metadata": {},
     "output_type": "execute_result"
    }
   ],
   "source": [
    "PDSexoIdade = joint(PDSexo, PDIdades, ' ')\n",
    "PDSexoIdade"
   ]
  },
  {
   "cell_type": "markdown",
   "metadata": {},
   "source": [
    "Daí respondemos a pergunta calculando:"
   ]
  },
  {
   "cell_type": "code",
   "execution_count": 24,
   "metadata": {
    "collapsed": false
   },
   "outputs": [
    {
     "data": {
      "text/plain": [
       "0.7999999999999999"
      ]
     },
     "execution_count": 24,
     "metadata": {},
     "output_type": "execute_result"
    }
   ],
   "source": [
    "P(sexo_m, tal_que(idade_B, PDSexoIdade))"
   ]
  },
  {
   "cell_type": "markdown",
   "metadata": {},
   "source": [
    "A resposta para a pergunta anterior é $80\\%$. \n",
    "\n",
    "Outra informação importante é que a distribuição de probabilidade conjunta (resultado da função `joint()`) representa a distribuição de probabilidade de dois eventos ocorrerem em sequência, por isso usamos `joint(PDSexo, PDIdades)`. O que seria `joint(PDIdades, PDSexo)`? Por que os valores são iguais?\n",
    "\n",
    "Com base nessas informações podemos interpretar o resultado da seguinte forma:"
   ]
  },
  {
   "cell_type": "code",
   "execution_count": 25,
   "metadata": {
    "collapsed": false
   },
   "outputs": [
    {
     "data": {
      "text/plain": [
       "0.8000000000000002"
      ]
     },
     "execution_count": 25,
     "metadata": {},
     "output_type": "execute_result"
    }
   ],
   "source": [
    "PA = P(sexo_m, PDSexoIdade)\n",
    "PE = P(idade_B, PDSexoIdade)\n",
    "Prob  = PA * PE / PE\n",
    "\n",
    "Prob"
   ]
  },
  {
   "cell_type": "markdown",
   "metadata": {},
   "source": [
    "Perceba que há um padrão nesse tipo de pergunta: \"dado que\" é chamado de **evidência** e representa a informação dada no enunciado (\"dado que uma pessoa está na faixa etária B\"). \n",
    "\n",
    "Em outras palavras, essa técnica para encontrar a probabilidade de um evento dada a ocorrência [anterior] de uma evidência é chamada probabilidade condicional ou Teorema de Bayes.\n",
    "\n",
    "Usando o teorema de Bayes na sua forma clássica temos:"
   ]
  },
  {
   "cell_type": "code",
   "execution_count": 40,
   "metadata": {
    "collapsed": false
   },
   "outputs": [
    {
     "name": "stdout",
     "output_type": "stream",
     "text": [
      "P(E) = P(Idade=B) = 20.0%\n",
      "P(A) = P(Sexo=F) = 20.0%\n",
      "P(B) = P(Sexo=M) = 80.0%\n",
      "P(E|A) = P(Idade=B|Sexo=F) = 20.0%\n",
      "P(E|B) = P(Idade=B|Sexo=M) = 20.0%\n",
      "P(E) = P(Idade=B) = 20.0%\n",
      "P(B|E) = P(Sexo=M|Idade=B) = 80.0%\n",
      "P(B|E) = P(Sexo=M|Idade=B) = 80.0%\n",
      "P(B|E) = P(Sexo=M|Idade=B) = 80.0%\n"
     ]
    }
   ],
   "source": [
    "# Evidência\n",
    "PE = P(idade_B, PDSexoIdade)\n",
    "print('P(E) = P(Idade=B) = %.1f%%' % (PE * 100))\n",
    "\n",
    "# Hipótese A (Sexo = F)\n",
    "PA = P(sexo_f, PDSexoIdade)\n",
    "print('P(A) = P(Sexo=F) = %.1f%%' % (PA * 100))\n",
    "\n",
    "# Hipótese B (Sexo = M)\n",
    "PB = P(sexo_m, PDSexoIdade)\n",
    "print('P(B) = P(Sexo=M) = %.1f%%' % (PB * 100))\n",
    "\n",
    "# Evidência, dada Hipótese A\n",
    "PEA = P(idade_B, tal_que(sexo_f, PDSexoIdade))\n",
    "print('P(E|A) = P(Idade=B|Sexo=F) = %.1f%%' % (PEA * 100))\n",
    "\n",
    "# Evidência, dada Hipótese B\n",
    "PEB = P(idade_B, tal_que(sexo_m, PDSexoIdade))\n",
    "print('P(E|B) = P(Idade=B|Sexo=M) = %.1f%%' % (PEB * 100))\n",
    "\n",
    "# Outra forma de encontrar P(E)\n",
    "PE2 = PEA * PA + PEB * PB\n",
    "print('P(E) = P(Idade=B) = %.1f%%' % (PE2 * 100))\n",
    "\n",
    "# probabilidade desejada (Sexo = M), dada a Evidência -> P(B|E)\n",
    "PBE = P(sexo_m, tal_que(idade_B, PDSexoIdade))\n",
    "print('P(B|E) = P(Sexo=M|Idade=B) = %.1f%%' % (PBE * 100))\n",
    "\n",
    "# outra forma de encontrar P(B|E)\n",
    "PBE2 = PEB * PB / PE\n",
    "print('P(B|E) = P(Sexo=M|Idade=B) = %.1f%%' % (PBE2 * 100))\n",
    "\n",
    "# outra forma de encontrar P(B|E)\n",
    "PBE3 = PB * PE / PE\n",
    "print('P(B|E) = P(Sexo=M|Idade=B) = %.1f%%' % (PBE3 * 100))"
   ]
  },
  {
   "cell_type": "markdown",
   "metadata": {},
   "source": [
    "Como responder as seguintes perguntas?\n",
    "* Dado que uma pessoa é do sexo feminino, qual a probabilidade da sua renda estar na faixa B? (considere as faixas: A (até 1000), B (1001 a 3000), C (3001 a 5000) e D (acima de 5000)\n",
    "\n",
    "* Dado que uma pessoa está na faixa etária B, qual a probabilidade da sua renda estar na faixa A?"
   ]
  }
 ],
 "metadata": {
  "anaconda-cloud": {},
  "kernelspec": {
   "display_name": "Python [conda root]",
   "language": "python",
   "name": "conda-root-py"
  },
  "language_info": {
   "codemirror_mode": {
    "name": "ipython",
    "version": 3
   },
   "file_extension": ".py",
   "mimetype": "text/x-python",
   "name": "python",
   "nbconvert_exporter": "python",
   "pygments_lexer": "ipython3",
   "version": "3.5.2"
  }
 },
 "nbformat": 4,
 "nbformat_minor": 1
}
