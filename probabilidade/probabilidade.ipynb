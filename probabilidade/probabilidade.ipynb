{
 "cells": [
  {
   "cell_type": "markdown",
   "metadata": {},
   "source": [
    "# Probabilidade\n",
    "\n",
    "## Definições iniciais\n",
    "\n",
    "* **Experimento**: uma ocorrência com um resultado incerto. Também pode ser chamado \"processo\". Exemplo: rolar um dado.\n",
    "* **Resultado**: o resultado de um experimento; um \"estado\" particular do mundo (ambiente). Também pode ser chamado \"caso\". Exemplo: 4\n",
    "* **Espaço amostral**: o conjunto de todos os resultados possíveis para um experimento. Exemplo: $\\{1, 2, 3, 4, 5, 6\\}$\n",
    "* **Evento**: um subconjunto do espaço amostral. Exemplo: o evento \"dado com face par\" é o conjunto dos resultados $\\{2, 4, 6\\}$\n",
    "* **Probabilidade**: a probabilidade de um evento em relação a um espaço amostral é a quantidade de resultados no evento dividida pela quantidade de resultados no espaço amostral. Como é uma razão, o valor de uma probabilidade será será um número entre $0$ (um evento impossível) e $1$ (um evento certo). Exemplo: a probabilidade do evento \"dado com face par\" é $3/6 = 1/2 = 0.5$\n",
    "\n",
    "## Código para P\n",
    "\n",
    "$P()$ é o nome tradicional para a função Probabilidade:"
   ]
  },
  {
   "cell_type": "code",
   "execution_count": 187,
   "metadata": {
    "collapsed": true
   },
   "outputs": [],
   "source": [
    "from fractions import Fraction\n",
    "\n",
    "def P(evento, espaco):\n",
    "    \"A probabilidade de um evento, dado o espaco amostral\"\n",
    "    return Fraction(len(evento & espaco), len(espaco))"
   ]
  },
  {
   "cell_type": "markdown",
   "metadata": {},
   "source": [
    "O código implementa o conceito \"Probabilidade é simplemente uma fração cujo numerador é o número de casos favorávels e cujo denominador é o número de todos os casos possíveis\" (Laplace)."
   ]
  },
  {
   "cell_type": "markdown",
   "metadata": {},
   "source": [
    "## Aquecimento: Rolar um dado\n",
    "\n",
    "Qual é a probabilidade de rolar um dado e a face superior ser um número par? Consideramos, para isso, um dado com seis faces.\n",
    "\n",
    "Podemos definir o espaço amostral $A$, o evento $par$ e calcular a probabilidade:"
   ]
  },
  {
   "cell_type": "code",
   "execution_count": 188,
   "metadata": {
    "collapsed": false
   },
   "outputs": [
    {
     "data": {
      "text/plain": [
       "Fraction(1, 2)"
      ]
     },
     "execution_count": 188,
     "metadata": {},
     "output_type": "execute_result"
    }
   ],
   "source": [
    "A = {1, 2, 3, 4, 5, 6}\n",
    "par = {2, 4, 6}\n",
    "P(par, A)"
   ]
  },
  {
   "cell_type": "markdown",
   "metadata": {},
   "source": [
    "Você pode perguntar: \"por que não usar `len(evento)` ao invés de `len(evento & espaco)`? Isso é necessário porque não podem ser considerados resultados que não estejam presentes no espaço amostral. Veja só:"
   ]
  },
  {
   "cell_type": "code",
   "execution_count": 189,
   "metadata": {
    "collapsed": false
   },
   "outputs": [
    {
     "data": {
      "text/plain": [
       "Fraction(1, 2)"
      ]
     },
     "execution_count": 189,
     "metadata": {},
     "output_type": "execute_result"
    }
   ],
   "source": [
    "par = {2, 4, 6, 8, 10, 12}\n",
    "P(par, A)"
   ]
  },
  {
   "cell_type": "markdown",
   "metadata": {},
   "source": [
    "Se considerasse apenas `len(evento)`, o retorno seria outro:"
   ]
  },
  {
   "cell_type": "code",
   "execution_count": 190,
   "metadata": {
    "collapsed": false
   },
   "outputs": [
    {
     "data": {
      "text/plain": [
       "Fraction(1, 1)"
      ]
     },
     "execution_count": 190,
     "metadata": {},
     "output_type": "execute_result"
    }
   ],
   "source": [
    "Fraction(len(par), len(A))"
   ]
  },
  {
   "cell_type": "markdown",
   "metadata": {},
   "source": [
    "Os \"casos favoráveis\", da definição de Laplace, são a interseção entre `par` e `A`, ou seja, $\\mbox{evento} \\cap A$. Em Python, isso é feito usando o operador `&`, por isso `len(evento & espaco)`.\n",
    "\n",
    "### Sobre Fraction em Python\n",
    "\n",
    "O tipo `Fraction` do Python é usado para representar valores na forma de frações (racional). Por exemplo:"
   ]
  },
  {
   "cell_type": "code",
   "execution_count": 191,
   "metadata": {
    "collapsed": false
   },
   "outputs": [
    {
     "name": "stdout",
     "output_type": "stream",
     "text": [
      "1/2\n",
      "5404319552844595/18014398509481984\n",
      "3/10\n",
      "3/10\n",
      "6004798902680711/18014398509481984\n",
      "1/3\n",
      "0.3333333\n"
     ]
    }
   ],
   "source": [
    "print(Fraction(0.5))\n",
    "print(Fraction(0.3))\n",
    "print(Fraction(0.3).limit_denominator()) # usa limit_denominator() para encontrar a fração mais aproximada\n",
    "print(Fraction(3, 10)) \n",
    "print(Fraction(0.3333333))\n",
    "print(Fraction(0.3333333).limit_denominator()) # limitando o denominador (padrão é max=1000000)\n",
    "print(float(Fraction(0.3333333))) # convertendo o valor de Fraction() para float()"
   ]
  },
  {
   "cell_type": "markdown",
   "metadata": {},
   "source": [
    "## Problemas com urnas\n",
    "\n",
    "Não estou falando de política! (ok, essa piada foi péssima)\n",
    "\n",
    "Problemas com urnas surgiram por volta de 1700, com o matemático Jacob Bernoulli. Por exemplo:\n",
    "\n",
    "* Uma urna contém 23 bolas: 8 brancas, 6 azuis e 9 vermelhas. Selecionamos seis bolas aleatoriamente (cada seleção com a mesma chance de acontecer). Qual é a probabilidade desses três resultados possíveis:\n",
    "\n",
    "1. todas as bolas são vermelhas\n",
    "2. 3 são azuis, 2 são vermelhas e 1 é branca\n",
    "3. 4 são brancas\n",
    "\n",
    "Então, um resultado é um **conjunto** com 6 bolas, enquanto o espaço amostral é o conjunto de todas as possíveis combinações (também conjuntos) com 6 bolas. Antes de continuar a solução, duas questões:\n",
    "\n",
    "1. há múltiplas bolas da mesma cor (ex: 8 bolas brancas)\n",
    "2. um resultado é um **conjunto** de bolas, então a ordem dos seus elementos não importa (diferentemente da **lista** -- ou sequência -- para a qual a ordem importa)\n",
    "\n",
    "Para a primeira questão, vamos nomear as bolas usando uma letra e um número, assim: \n",
    "* as 8 bolas brancas serão chamadas `W1` até `W8`\n",
    "* as 6 bolas azuis serão chamadas `B1` até `B6`\n",
    "* as 9 bolas vermelhas serão chamadas `R1` até `R9`\n",
    "\n",
    "Para a segunda questão teremos que trabalhar com permutações e então encontrar combinações, dividindo o número de permutações por $c!$, onde $c$ é o número de bolas em uma combinação. \n",
    "\n",
    "Por exemplo, se eu precisar escolher 2 bolas de 8 disponíveis, há 8 formas de escolher a primeira, e 7 formas de escolher a segunda. Sendo assim, há $8 \\times 7 = 56$ permutações, mas $52/2 = 26$ combinações. Tudo isso porque $\\{W1, W2\\} = \\{W2, W1\\}$.\n",
    "\n",
    "Vamos lá. O código a seguir define o conteúdo da urna:"
   ]
  },
  {
   "cell_type": "code",
   "execution_count": 192,
   "metadata": {
    "collapsed": false
   },
   "outputs": [
    {
     "data": {
      "text/plain": [
       "{'B1',\n",
       " 'B2',\n",
       " 'B3',\n",
       " 'B4',\n",
       " 'B5',\n",
       " 'B6',\n",
       " 'R1',\n",
       " 'R2',\n",
       " 'R3',\n",
       " 'R4',\n",
       " 'R5',\n",
       " 'R6',\n",
       " 'R7',\n",
       " 'R8',\n",
       " 'R9',\n",
       " 'W1',\n",
       " 'W2',\n",
       " 'W3',\n",
       " 'W4',\n",
       " 'W5',\n",
       " 'W6',\n",
       " 'W7',\n",
       " 'W8'}"
      ]
     },
     "execution_count": 192,
     "metadata": {},
     "output_type": "execute_result"
    }
   ],
   "source": [
    "def cross(A, B):\n",
    "    \"O conjunto de formas de concatenar os itens de A e B (produto cartesiano)\"\n",
    "    return {a + b\n",
    "            for a in A for b in B\n",
    "           }\n",
    "\n",
    "urna = cross('W', '12345678') | cross('B', '123456') | cross('R', '123456789')\n",
    "\n",
    "urna"
   ]
  },
  {
   "cell_type": "code",
   "execution_count": 193,
   "metadata": {
    "collapsed": false
   },
   "outputs": [
    {
     "data": {
      "text/plain": [
       "23"
      ]
     },
     "execution_count": 193,
     "metadata": {},
     "output_type": "execute_result"
    }
   ],
   "source": [
    "len(urna)"
   ]
  },
  {
   "cell_type": "markdown",
   "metadata": {},
   "source": [
    "Agora, vamos definir o espaço amostral, chamado `U6`, o conjunto de todas as combinações com 6 bolas:"
   ]
  },
  {
   "cell_type": "code",
   "execution_count": 194,
   "metadata": {
    "collapsed": false
   },
   "outputs": [
    {
     "data": {
      "text/plain": [
       "100947"
      ]
     },
     "execution_count": 194,
     "metadata": {},
     "output_type": "execute_result"
    }
   ],
   "source": [
    "import itertools\n",
    "\n",
    "def combos(items, n):\n",
    "    \"Todas as combinações de n items; cada combinação concatenada em uma string\"\n",
    "    return {' '.join(combo)\n",
    "            for combo in itertools.combinations(items, n)\n",
    "           }\n",
    "\n",
    "U6 = combos(urna, 6)\n",
    "\n",
    "len(U6)"
   ]
  },
  {
   "cell_type": "markdown",
   "metadata": {},
   "source": [
    "Para não mostrar todos os conjuntos, vamos mostrar uma pequena amostra:"
   ]
  },
  {
   "cell_type": "code",
   "execution_count": 195,
   "metadata": {
    "collapsed": false
   },
   "outputs": [
    {
     "data": {
      "text/plain": [
       "['W2 W3 W6 R7 W1 W8',\n",
       " 'B4 R9 W5 B2 R4 R5',\n",
       " 'W5 R6 R3 W8 W7 R5',\n",
       " 'W4 W5 R6 W7 R5 B6',\n",
       " 'B1 W5 R8 W8 R4 W7',\n",
       " 'B4 R9 B1 B5 R3 B2',\n",
       " 'W2 W6 R7 R3 W8 B2',\n",
       " 'W1 R3 W8 R4 R5 B6',\n",
       " 'B4 R9 W1 B2 B3 B6',\n",
       " 'R9 W3 W5 R3 B2 B3']"
      ]
     },
     "execution_count": 195,
     "metadata": {},
     "output_type": "execute_result"
    }
   ],
   "source": [
    "import random\n",
    "\n",
    "random.sample(U6, 10)"
   ]
  },
  {
   "cell_type": "markdown",
   "metadata": {},
   "source": [
    "Mas será que o $100,947$ é a quantidade correta de formas de escolher 6 de 23 bolas? Bem, o raciocínio é esse:\n",
    "\n",
    "* Escolha uma de 23 (sobram 22)\n",
    "* Escolha uma de 22 (sobram 21)\n",
    "* ...\n",
    "* Escolha seis de 18\n",
    "\n",
    "Como não ligamos para a ordem (enfim, é um **conjunto**), então dividimos por $6!$. Isso dá:\n",
    "\n",
    "\\begin{align*}\n",
    "23 \\mbox{ escolha } 6 = \\frac{23 \\times 22 \\times 21 \\times 20 \\times 19 \\times 18}{6!} = 100947\n",
    "\\end{align*}\n",
    "\n",
    "Note que $23 \\times 22 \\times 21 \\times 20 \\times 19 \\times 18 = 23!/17!$, então, podemos generalizar:\n",
    "\n",
    "\\begin{align*}\n",
    "n \\mbox{ escolha } c = \\frac{n!}{c!\\times(n - c)!} = \\binom{n}{c}\n",
    "\\end{align*}\n",
    "\n",
    "Podemos traduzir isso para código, assim:"
   ]
  },
  {
   "cell_type": "code",
   "execution_count": 196,
   "metadata": {
    "collapsed": false
   },
   "outputs": [
    {
     "data": {
      "text/plain": [
       "100947"
      ]
     },
     "execution_count": 196,
     "metadata": {},
     "output_type": "execute_result"
    }
   ],
   "source": [
    "from math import factorial\n",
    "\n",
    "def escolha(n, c):\n",
    "    \"Número de formas de escolher c itens de uma lista com n items\"\n",
    "    return factorial(n) // (factorial(c) * factorial(n - c))\n",
    "\n",
    "escolha(23, 6)"
   ]
  },
  {
   "cell_type": "markdown",
   "metadata": {},
   "source": [
    "Agora podemos resolver vários problemas.\n",
    "\n",
    "### Problema 1: qual a probabilidade de selecionar 6 bolas vermelhas?"
   ]
  },
  {
   "cell_type": "code",
   "execution_count": 197,
   "metadata": {
    "collapsed": false
   },
   "outputs": [
    {
     "data": {
      "text/plain": [
       "Fraction(4, 4807)"
      ]
     },
     "execution_count": 197,
     "metadata": {},
     "output_type": "execute_result"
    }
   ],
   "source": [
    "red6 = {s for s in U6 if s.count('R') == 6}\n",
    "\n",
    "P(red6, U6)"
   ]
  },
  {
   "cell_type": "markdown",
   "metadata": {},
   "source": [
    "ou"
   ]
  },
  {
   "cell_type": "code",
   "execution_count": 198,
   "metadata": {
    "collapsed": false
   },
   "outputs": [
    {
     "data": {
      "text/plain": [
       "84"
      ]
     },
     "execution_count": 198,
     "metadata": {},
     "output_type": "execute_result"
    }
   ],
   "source": [
    "len(red6)"
   ]
  },
  {
   "cell_type": "markdown",
   "metadata": {},
   "source": [
    "Por que 84 formas? Por que há 9 bolas vermelhas na urna, então estamos querendo saber quantas são as formas de escolher 6 delas:"
   ]
  },
  {
   "cell_type": "code",
   "execution_count": 199,
   "metadata": {
    "collapsed": false
   },
   "outputs": [
    {
     "data": {
      "text/plain": [
       "84"
      ]
     },
     "execution_count": 199,
     "metadata": {},
     "output_type": "execute_result"
    }
   ],
   "source": [
    "escolha(9, 6)"
   ]
  },
  {
   "cell_type": "markdown",
   "metadata": {},
   "source": [
    "Então a probabilidade de selecionar 6 bolas vermelhas da urna é `escolha(9, 6)` dividido pelo tamanho do espaço amostral:"
   ]
  },
  {
   "cell_type": "code",
   "execution_count": 200,
   "metadata": {
    "collapsed": false
   },
   "outputs": [
    {
     "data": {
      "text/plain": [
       "True"
      ]
     },
     "execution_count": 200,
     "metadata": {},
     "output_type": "execute_result"
    }
   ],
   "source": [
    "P(red6, U6) == Fraction(escolha(9, 6), len(U6))"
   ]
  },
  {
   "cell_type": "markdown",
   "metadata": {},
   "source": [
    "### Problema 2: qual a probabilidade de escolher 3 azuis, 2 brancas 1 vermelha?"
   ]
  },
  {
   "cell_type": "code",
   "execution_count": 201,
   "metadata": {
    "collapsed": false
   },
   "outputs": [
    {
     "data": {
      "text/plain": [
       "Fraction(240, 4807)"
      ]
     },
     "execution_count": 201,
     "metadata": {},
     "output_type": "execute_result"
    }
   ],
   "source": [
    "b3w2r1 = {s for s in U6 if s.count('B') == 3 and s.count('W') == 2 and s.count('R') == 1}\n",
    "\n",
    "P(b3w2r1, U6)"
   ]
  },
  {
   "cell_type": "markdown",
   "metadata": {},
   "source": [
    "Podemos encontrar o mesmo resultado contando de quantas formas podemos escolher 3 de 6 azuis, 2 de 8 brancas, 1 de 9 vermelhas e dividindo o resultado pelo tamanho do espaço amostral:"
   ]
  },
  {
   "cell_type": "code",
   "execution_count": 202,
   "metadata": {
    "collapsed": false
   },
   "outputs": [
    {
     "data": {
      "text/plain": [
       "True"
      ]
     },
     "execution_count": 202,
     "metadata": {},
     "output_type": "execute_result"
    }
   ],
   "source": [
    "P(b3w2r1, U6) == Fraction(escolha(6, 3) * escolha(8, 2) * escolha(9, 1), len(U6))"
   ]
  },
  {
   "cell_type": "markdown",
   "metadata": {},
   "source": [
    "O raciocínio seguinte também é válido:\n",
    "* há 6 formas de encontrar a primeira bola azul\n",
    "* há 5 formas de encontrar a segunda azul\n",
    "* há 4 formas de encontrar a terceira azul\n",
    "* há 8 formas de encontrar a primeira bola branca\n",
    "* há 7 formas de encontrar a segunda branca\n",
    "* há 9 formas de encontrar a bola vermelha\n",
    "\n",
    "Como $\\{B1, B2, B3\\} = \\{B3, B2, B1\\}$ e $\\{W1, W2\\} = \\{W2, W1\\}$, teríamos:\n",
    "\n",
    "\\begin{align*}\n",
    "\\frac{(6 \\times 5 \\times 4) \\times (8 \\times 7) \\times (9)}{3! \\times 2! \\times |A|}\n",
    "\\end{align*}"
   ]
  },
  {
   "cell_type": "code",
   "execution_count": 203,
   "metadata": {
    "collapsed": false
   },
   "outputs": [
    {
     "data": {
      "text/plain": [
       "True"
      ]
     },
     "execution_count": 203,
     "metadata": {},
     "output_type": "execute_result"
    }
   ],
   "source": [
    " P(b3w2r1, U6) == Fraction((6 * 5 * 4) * (8 * 7) * 9, \n",
    "                           factorial(3) * factorial(2) * len(U6))"
   ]
  },
  {
   "cell_type": "markdown",
   "metadata": {},
   "source": [
    "### Problema 3: Qual a probabilidade de termos exatamente 4 bolas brancas?\n",
    "\n",
    "Podemos encontrar a resposta usando os mesmos raciocínios anteriores:"
   ]
  },
  {
   "cell_type": "code",
   "execution_count": 204,
   "metadata": {
    "collapsed": false
   },
   "outputs": [
    {
     "data": {
      "text/plain": [
       "Fraction(350, 4807)"
      ]
     },
     "execution_count": 204,
     "metadata": {},
     "output_type": "execute_result"
    }
   ],
   "source": [
    "w4 = {s for s in U6 if\n",
    "      s.count('W') == 4}\n",
    "\n",
    "P(w4, U6)"
   ]
  },
  {
   "cell_type": "code",
   "execution_count": 205,
   "metadata": {
    "collapsed": false
   },
   "outputs": [
    {
     "data": {
      "text/plain": [
       "True"
      ]
     },
     "execution_count": 205,
     "metadata": {},
     "output_type": "execute_result"
    }
   ],
   "source": [
    "P(w4, U6) == Fraction(escolha(8, 4) * escolha(15, 2),\n",
    "                      len(U6))"
   ]
  },
  {
   "cell_type": "code",
   "execution_count": 206,
   "metadata": {
    "collapsed": false
   },
   "outputs": [
    {
     "data": {
      "text/plain": [
       "True"
      ]
     },
     "execution_count": 206,
     "metadata": {},
     "output_type": "execute_result"
    }
   ],
   "source": [
    "P(w4, U6) == Fraction((8 * 7 * 6 * 5) * (15 * 14),\n",
    "                      factorial(4) * factorial(2) * len(U6))"
   ]
  },
  {
   "cell_type": "markdown",
   "metadata": {},
   "source": [
    "Esse último raciocínio, em particular, é interpretado assim:\n",
    "* 8 escolhas para a primeira bola\n",
    "* 7 escolhas para a segunda\n",
    "* 6 escolhas para a terceira\n",
    "* 5 escolhas para a segunda\n",
    "* 15 escolhas para as outras bolas (não brancas)\n",
    "* 14 escolhas para as outras bolas (não brancas restantes)\n",
    "\n",
    "Ou seja:\n",
    "\n",
    "\\begin{align*}\n",
    "\\frac{(8 \\times 7 \\times 6) \\times (15 \\times 14)}{4! \\times 2! \\times |A|}\n",
    "\\end{align*}"
   ]
  },
  {
   "cell_type": "markdown",
   "metadata": {},
   "source": [
    "## Revisando a função P, com eventos mais gerais\n",
    "\n",
    "Até o momento, para calcular a probabilidade de um dado com face par, usamos:\n",
    "\n",
    "```\n",
    "par = {2, 4, 6}\n",
    "```\n",
    "\n",
    "Mas enumerar um conjunto pequeno é fácil, o difícil seria enumerar um conjunto maior. Assim:"
   ]
  },
  {
   "cell_type": "code",
   "execution_count": 207,
   "metadata": {
    "collapsed": true
   },
   "outputs": [],
   "source": [
    "def P(evento, espaco):\n",
    "    \"\"\"A probabilidade de um evento, dado um espaco amostral. \n",
    "    evento pode ser um conjunto ou um predicado\"\"\"\n",
    "    if callable(evento):\n",
    "        evento = tal_que(evento, espaco)\n",
    "    return Fraction(len(evento & espaco), len(espaco))\n",
    "\n",
    "def tal_que(predicado, colecao):\n",
    "    \"O subconjunto de elementos da colecao para os quais o predicado é verdadeiro\"\n",
    "    return {e for e in colecao if predicado(e)}"
   ]
  },
  {
   "cell_type": "markdown",
   "metadata": {},
   "source": [
    "Vamos verificar como isso se comporta."
   ]
  },
  {
   "cell_type": "code",
   "execution_count": 208,
   "metadata": {
    "collapsed": false
   },
   "outputs": [
    {
     "data": {
      "text/plain": [
       "Fraction(1, 2)"
      ]
     },
     "execution_count": 208,
     "metadata": {},
     "output_type": "execute_result"
    }
   ],
   "source": [
    "def eh_par(n):\n",
    "    return n % 2 == 0\n",
    "\n",
    "P(eh_par, A)"
   ]
  },
  {
   "cell_type": "code",
   "execution_count": 209,
   "metadata": {
    "collapsed": false
   },
   "outputs": [
    {
     "data": {
      "text/plain": [
       "{2, 4, 6, 8, 10, 12}"
      ]
     },
     "execution_count": 209,
     "metadata": {},
     "output_type": "execute_result"
    }
   ],
   "source": [
    "D12 = {1, 2, 3, 4, 5, 6, 7, 8, 9, 10, 11, 12}\n",
    "\n",
    "tal_que(eh_par, D12)"
   ]
  },
  {
   "cell_type": "code",
   "execution_count": 210,
   "metadata": {
    "collapsed": false
   },
   "outputs": [
    {
     "data": {
      "text/plain": [
       "Fraction(1, 2)"
      ]
     },
     "execution_count": 210,
     "metadata": {},
     "output_type": "execute_result"
    }
   ],
   "source": [
    "P(eh_par, D12)"
   ]
  },
  {
   "cell_type": "markdown",
   "metadata": {},
   "source": [
    "Isso permite coisas interessantes. Por exemplo, como determinar a probabilidade de que a soma de três dados é um número primo?"
   ]
  },
  {
   "cell_type": "code",
   "execution_count": 211,
   "metadata": {
    "collapsed": false
   },
   "outputs": [
    {
     "data": {
      "text/plain": [
       "Fraction(73, 216)"
      ]
     },
     "execution_count": 211,
     "metadata": {},
     "output_type": "execute_result"
    }
   ],
   "source": [
    "A3 = {(a1, a2, a3) for a1 in A for a2 in A for a3 in A}\n",
    "\n",
    "def soma_eh_primo(r): return eh_primo(sum(r))\n",
    "\n",
    "def eh_primo(n): return n > 1 and not any(n % i == 0 for i in range(2, n))\n",
    "\n",
    "P(soma_eh_primo, A3)"
   ]
  },
  {
   "cell_type": "markdown",
   "metadata": {},
   "source": [
    "## Problemas com cartas\n",
    "\n",
    "Definimos o problema assim:\n",
    "* 4 naipes: copas (C), ouro (O), paus (P) e espadas (E) (no inglês: hearts (H), diamond (D), clubs (C) and spades (S))\n",
    "* 13 graus: Ás, 2, 3, 4, 5, 6, 7, 8, 9, 10 (ou T), J, Q, K\n",
    "\n",
    "O baralho possui 52 cartas."
   ]
  },
  {
   "cell_type": "code",
   "execution_count": 212,
   "metadata": {
    "collapsed": false
   },
   "outputs": [
    {
     "data": {
      "text/plain": [
       "52"
      ]
     },
     "execution_count": 212,
     "metadata": {},
     "output_type": "execute_result"
    }
   ],
   "source": [
    "naipes = 'SHDC'\n",
    "graus = 'A23456789TJQK'\n",
    "baralho  = cross(graus, naipes)\n",
    "len(baralho)"
   ]
  },
  {
   "cell_type": "markdown",
   "metadata": {},
   "source": [
    "Qual a quantidade de jogadas (mãos) com 5 cartas?"
   ]
  },
  {
   "cell_type": "code",
   "execution_count": 213,
   "metadata": {
    "collapsed": false
   },
   "outputs": [
    {
     "name": "stdout",
     "output_type": "stream",
     "text": [
      "True\n"
     ]
    },
    {
     "data": {
      "text/plain": [
       "['3C 3H 8H 2H AC',\n",
       " '8C KS 5C 2H 3S',\n",
       " 'JS 6C JD KH JC',\n",
       " '7H 7C 9D 9H KH',\n",
       " '5S TC 5D 5C 4C']"
      ]
     },
     "execution_count": 213,
     "metadata": {},
     "output_type": "execute_result"
    }
   ],
   "source": [
    "jogadas = combos(baralho, 5)\n",
    "\n",
    "print(len(jogadas) == escolha(52, 5))\n",
    "\n",
    "random.sample(jogadas, 5)"
   ]
  },
  {
   "cell_type": "markdown",
   "metadata": {},
   "source": [
    "Qual a probabilidade de dar 'flush' (5 cartas do mesmo naipe)?"
   ]
  },
  {
   "cell_type": "code",
   "execution_count": 214,
   "metadata": {
    "collapsed": false
   },
   "outputs": [
    {
     "data": {
      "text/plain": [
       "Fraction(33, 16660)"
      ]
     },
     "execution_count": 214,
     "metadata": {},
     "output_type": "execute_result"
    }
   ],
   "source": [
    "def flush(jogada):\n",
    "    return any(jogada.count(n) == 5 for n in naipes)\n",
    "\n",
    "P(flush, jogadas)"
   ]
  },
  {
   "cell_type": "markdown",
   "metadata": {},
   "source": [
    "Ou... qual a probabilidade de dar 'four of a kind'?"
   ]
  },
  {
   "cell_type": "code",
   "execution_count": 215,
   "metadata": {
    "collapsed": false
   },
   "outputs": [
    {
     "data": {
      "text/plain": [
       "Fraction(1, 4165)"
      ]
     },
     "execution_count": 215,
     "metadata": {},
     "output_type": "execute_result"
    }
   ],
   "source": [
    "def four_kind(jogada):\n",
    "    return any(jogada.count(g) == 4 for g in graus)\n",
    "\n",
    "P(four_kind, jogadas)"
   ]
  },
  {
   "cell_type": "markdown",
   "metadata": {},
   "source": [
    "## Fermat e Pascal: Apostas, Triângulos e o nascimento da Probabilidade\n",
    "\n",
    "Considere um jogo de apostas, consistindo do [simples] fato de jogar uma moeda. Dois jogadores: H aposta em cara; e T aposta em coroa. Ganha o jogador que conseguir 10 acertos primeiro. Se o jogo for interrompido quando H tiver acertado 8 e T, acertado 7? Como dividir o pote de dinheiro? Fermat e Pascam trocaram correspondências sobre esse problema, o que pode ser lido [aqui](http://mathforum.org/isaac/problems/prob1.html).\n",
    "\n",
    "Podemos resolver o problema com as ferramentas que temos:"
   ]
  },
  {
   "cell_type": "code",
   "execution_count": 216,
   "metadata": {
    "collapsed": false
   },
   "outputs": [
    {
     "data": {
      "text/plain": [
       "{('h', 'h', 'h', 'h'),\n",
       " ('h', 'h', 'h', 't'),\n",
       " ('h', 'h', 't', 'h'),\n",
       " ('h', 'h', 't', 't'),\n",
       " ('h', 't', 'h', 'h'),\n",
       " ('h', 't', 'h', 't'),\n",
       " ('h', 't', 't', 'h'),\n",
       " ('h', 't', 't', 't'),\n",
       " ('t', 'h', 'h', 'h'),\n",
       " ('t', 'h', 'h', 't'),\n",
       " ('t', 'h', 't', 'h'),\n",
       " ('t', 'h', 't', 't'),\n",
       " ('t', 't', 'h', 'h'),\n",
       " ('t', 't', 'h', 't'),\n",
       " ('t', 't', 't', 'h'),\n",
       " ('t', 't', 't', 't')}"
      ]
     },
     "execution_count": 216,
     "metadata": {},
     "output_type": "execute_result"
    }
   ],
   "source": [
    "def ganhar_jogo_incompleto(h_pontos, t_pontos):\n",
    "    \"A probabilidade de que H vai ganhar o jogo não terminado, dados os pontos necessários para H e T ganharem.\"\n",
    "    def h_ganha(r): return r.count('h') >= h_pontos\n",
    "    return P(h_ganha, continuacoes(h_pontos, t_pontos))\n",
    "\n",
    "def continuacoes(h_pontos, t_pontos):\n",
    "    \"Todas as continuações possíveis quando H precisa de `h_pontos` e T precisa de `t_pontos`\"\n",
    "    rodadas = ['ht' for _ in range(h_pontos + t_pontos - 1)]\n",
    "    return set(itertools.product(*rodadas))\n",
    "\n",
    "continuacoes(2, 3)"
   ]
  },
  {
   "cell_type": "code",
   "execution_count": 217,
   "metadata": {
    "collapsed": false
   },
   "outputs": [
    {
     "data": {
      "text/plain": [
       "Fraction(11, 16)"
      ]
     },
     "execution_count": 217,
     "metadata": {},
     "output_type": "execute_result"
    }
   ],
   "source": [
    "ganhar_jogo_incompleto(2, 3)"
   ]
  },
  {
   "cell_type": "markdown",
   "metadata": {},
   "source": [
    "O resultado foi confirma o encontrado por Pascal e Fermat.\n",
    "\n",
    "## Resultados não equiprováveis: Distribuições de probabilidade\n",
    "\n",
    "Até aqui, lidamos com casos em que a probabilidade de um retorno no espaço amostral é a mesma (uniforme). No mundo real, isso não é sempre verdade. Por exemplo, a probabilidade de uma criança ser uma menina não é exatamente 1/2, e a probabilidade é um pouco diferente para a segunda criança. Uma pesquisa encontrou as seguintes contagens de famílias com dois filhos na Dinamarca (GB significa uma família em que o primeiro filho é uma garota e o segundo filho é um menino):\n",
    "\n",
    "```\n",
    "GG: 121801     GB: 126840\n",
    "BG: 127123     BB: 135138\n",
    "```\n",
    "\n",
    "Vamos introduzir mais três definições:\n",
    "\n",
    "* **Frequência**: um número que descreve o quão frequente um resultado ocorre. Pode ser uma contagem, como 121801, ou uma razão, como 0,515\n",
    "* **Distribuição**: um mapeamento de resultado para frequência, para cada resultado no espaço amostral.\n",
    "* **Distribuição de Probabilidade**: uma distribuição que foi *normalizada* de tal forma que a soma das frequências é 1\n",
    "\n",
    "Definimos a classe `ProbDist` (um subtipo do `dict` do Python):"
   ]
  },
  {
   "cell_type": "code",
   "execution_count": 218,
   "metadata": {
    "collapsed": true
   },
   "outputs": [],
   "source": [
    "class ProbDist(dict):\n",
    "    \"Uma distribuição de probablidade; um mapeamento {resultado: probabilidade\"\n",
    "    def __init__(self, mapping=(), **kwargs):\n",
    "        self.update(mapping, **kwargs)\n",
    "        total = sum(self.values())\n",
    "        for outcome in self:\n",
    "            self[outcome] = self[outcome]/total\n",
    "            assert self[outcome] >= 0"
   ]
  },
  {
   "cell_type": "markdown",
   "metadata": {},
   "source": [
    "Também redefinimos as funções `P` e `tal_que`:"
   ]
  },
  {
   "cell_type": "code",
   "execution_count": 219,
   "metadata": {
    "collapsed": false
   },
   "outputs": [],
   "source": [
    "def P(evento, espaco):\n",
    "    \"\"\"A probabilidade de um evento, dado um espaço amostral de resultados equiprováveis.\n",
    "    evento: uma coleção de resultados, ou um predicado.\n",
    "    espaco: um conjunto de resultados ou a distribuicao de probabilidade na forma de pares {resultado: frequencia}.\n",
    "    \"\"\"\n",
    "    if callable(evento):\n",
    "        evento = tal_que(evento, espaco)\n",
    "    if isinstance(espaco, ProbDist):\n",
    "        return sum(espaco[o] for o in espaco if o in evento)\n",
    "    else:\n",
    "        return Fraction(len(evento & espaco), len(espaco))\n",
    "    \n",
    "def tal_que(predicado, espaco):\n",
    "    \"\"\"Os resultados no espaço amostral para os quais o predicado é verdadeiro.\n",
    "    Se espaco é um conjunto, retorna um subconjunto {resultado, ...}\n",
    "    Se espaco é ProbDist, retorna um ProbDist{resultado, frequencia}\"\"\"\n",
    "    if isinstance(espaco, ProbDist):\n",
    "        return ProbDist({o:espaco[o] for o in espaco if predicado(o)})\n",
    "    else:\n",
    "        return {o for o in espaco if predicado(o)}\n",
    "    "
   ]
  },
  {
   "cell_type": "markdown",
   "metadata": {},
   "source": [
    "Aqui está a distribuição de probabilidade para as famílias Dinamarquesas com dois filhos:"
   ]
  },
  {
   "cell_type": "code",
   "execution_count": 220,
   "metadata": {
    "collapsed": false
   },
   "outputs": [
    {
     "data": {
      "text/plain": [
       "{'BB': 0.2645086533229465,\n",
       " 'BG': 0.24882071317004043,\n",
       " 'GB': 0.24826679089140383,\n",
       " 'GG': 0.23840384261560926}"
      ]
     },
     "execution_count": 220,
     "metadata": {},
     "output_type": "execute_result"
    }
   ],
   "source": [
    "DK = ProbDist(GG=121801, GB=126840, BG=127123, BB=135138)\n",
    "\n",
    "DK"
   ]
  },
  {
   "cell_type": "markdown",
   "metadata": {},
   "source": [
    "Vamos entender o resultado por partes. Para isso, alguns predicados:"
   ]
  },
  {
   "cell_type": "code",
   "execution_count": 221,
   "metadata": {
    "collapsed": true
   },
   "outputs": [],
   "source": [
    "def primeiro_menina(r): return r[0] == 'G'\n",
    "def primeiro_menino(r): return r[0] == 'B'\n",
    "def segundo_menina(r): return r[1] == 'G'\n",
    "def segundo_menino(r): return r[1] == 'B'\n",
    "def duas_meninas(r): return r == 'GG'\n",
    "def dois_meninos(r): return r == 'BB'"
   ]
  },
  {
   "cell_type": "code",
   "execution_count": 222,
   "metadata": {
    "collapsed": false
   },
   "outputs": [
    {
     "data": {
      "text/plain": [
       "0.4866706335070131"
      ]
     },
     "execution_count": 222,
     "metadata": {},
     "output_type": "execute_result"
    }
   ],
   "source": [
    "P(primeiro_menina, DK)"
   ]
  },
  {
   "cell_type": "code",
   "execution_count": 223,
   "metadata": {
    "collapsed": false
   },
   "outputs": [
    {
     "data": {
      "text/plain": [
       "0.4872245557856497"
      ]
     },
     "execution_count": 223,
     "metadata": {},
     "output_type": "execute_result"
    }
   ],
   "source": [
    "P(segundo_menina, DK)"
   ]
  },
  {
   "cell_type": "markdown",
   "metadata": {},
   "source": [
    "Isso indica que a probabilidade de uma criança ser menina está entre 48% e 49%, mas isso é um pouco diferente entre o primeiro e o segundo filhos."
   ]
  },
  {
   "cell_type": "code",
   "execution_count": 224,
   "metadata": {
    "collapsed": false
   },
   "outputs": [
    {
     "data": {
      "text/plain": [
       "(0.4898669165584115, 0.48471942072973107)"
      ]
     },
     "execution_count": 224,
     "metadata": {},
     "output_type": "execute_result"
    }
   ],
   "source": [
    "P(segundo_menina, tal_que(primeiro_menina, DK)), P(segundo_menina, tal_que(primeiro_menino, DK))"
   ]
  },
  {
   "cell_type": "code",
   "execution_count": 225,
   "metadata": {
    "collapsed": false
   },
   "outputs": [
    {
     "data": {
      "text/plain": [
       "(0.5101330834415885, 0.5152805792702689)"
      ]
     },
     "execution_count": 225,
     "metadata": {},
     "output_type": "execute_result"
    }
   ],
   "source": [
    "P(segundo_menino, tal_que(primeiro_menina, DK)), P(segundo_menino, tal_que(primeiro_menino, DK))"
   ]
  },
  {
   "cell_type": "markdown",
   "metadata": {},
   "source": [
    "Isso diz que é mais provável que o sexo do segundo filho seja igual ao do primeiro cerca de 50%."
   ]
  },
  {
   "cell_type": "markdown",
   "metadata": {},
   "source": [
    "## Mais problemas de Urnas: M&Ms e Bayes\n",
    "\n",
    "Outro problema de urna (Allen Downey):\n",
    "\n",
    "> O M&M azul foi introduzido em 1995. Antes disso, a mistura de cores em um pacote de M&Ms era formado por: 30% marrom, 20% amarelo, 20% vermelho, 10% verde, 10% laranja, 10% tostado. Depois, ficou: 24% azul, 20% verde, 16% laranja, 14% amarelo, 14% vermelho, 13% marrom. Um amigo meu possui dois pacotes de M&Ms e ele me diz que um é de 1994 e outro é de 1996. Ele não me diz qual é qual, mas me dá um M&M de cada pacote. Um é amarelho e outro é verde. Qual a probabilidade de que o M&M amarelo seja do pacote de 1994?\n",
    "\n",
    "Para resolver esse problema, primeiro representamos as distribuições de probabilidade de cada pacote:"
   ]
  },
  {
   "cell_type": "code",
   "execution_count": 226,
   "metadata": {
    "collapsed": true
   },
   "outputs": [],
   "source": [
    "bag94 = ProbDist(brown=30, yellow=20, red=20, green=10, orange=10, tan=10)\n",
    "bag96 = ProbDist(blue=24, green=20, orange=16, yellow=14, red=13, brown=13)"
   ]
  },
  {
   "cell_type": "markdown",
   "metadata": {},
   "source": [
    "A seguir, definimos `MM` como a *probabilidade conjunta* -- o espaço amostral para escolher um M&M de cada pacote. O resultado `yellow green` significa que um M&M amarelo foi selecionado do pacote de 1994 e um verde, do pacote de 1996."
   ]
  },
  {
   "cell_type": "code",
   "execution_count": 227,
   "metadata": {
    "collapsed": false
   },
   "outputs": [
    {
     "data": {
      "text/plain": [
       "{'brown blue': 0.07199999999999998,\n",
       " 'brown brown': 0.03899999999999999,\n",
       " 'brown green': 0.059999999999999984,\n",
       " 'brown orange': 0.04799999999999999,\n",
       " 'brown red': 0.03899999999999999,\n",
       " 'brown yellow': 0.041999999999999996,\n",
       " 'green blue': 0.023999999999999994,\n",
       " 'green brown': 0.012999999999999998,\n",
       " 'green green': 0.02,\n",
       " 'green orange': 0.015999999999999997,\n",
       " 'green red': 0.012999999999999998,\n",
       " 'green yellow': 0.013999999999999999,\n",
       " 'orange blue': 0.023999999999999994,\n",
       " 'orange brown': 0.012999999999999998,\n",
       " 'orange green': 0.02,\n",
       " 'orange orange': 0.015999999999999997,\n",
       " 'orange red': 0.012999999999999998,\n",
       " 'orange yellow': 0.013999999999999999,\n",
       " 'red blue': 0.04799999999999999,\n",
       " 'red brown': 0.025999999999999995,\n",
       " 'red green': 0.04,\n",
       " 'red orange': 0.031999999999999994,\n",
       " 'red red': 0.025999999999999995,\n",
       " 'red yellow': 0.027999999999999997,\n",
       " 'tan blue': 0.023999999999999994,\n",
       " 'tan brown': 0.012999999999999998,\n",
       " 'tan green': 0.02,\n",
       " 'tan orange': 0.015999999999999997,\n",
       " 'tan red': 0.012999999999999998,\n",
       " 'tan yellow': 0.013999999999999999,\n",
       " 'yellow blue': 0.04799999999999999,\n",
       " 'yellow brown': 0.025999999999999995,\n",
       " 'yellow green': 0.04,\n",
       " 'yellow orange': 0.031999999999999994,\n",
       " 'yellow red': 0.025999999999999995,\n",
       " 'yellow yellow': 0.027999999999999997}"
      ]
     },
     "execution_count": 227,
     "metadata": {},
     "output_type": "execute_result"
    }
   ],
   "source": [
    "def joint(A, B, sep=''):\n",
    "    \"\"\"A probabilidade conjunta de duas distribuições de probabilidade independentes. \n",
    "    Resultado é todas as entradas da forma {a+sep+b: P(a)*P(b)}\"\"\"\n",
    "    return ProbDist({a + sep + b: A[a] * B[b]\n",
    "                    for a in A\n",
    "                    for b in B})\n",
    "\n",
    "MM = joint(bag94, bag96, ' ')\n",
    "MM"
   ]
  },
  {
   "cell_type": "markdown",
   "metadata": {},
   "source": [
    "Primeiro, o predicado que trata \"um é amarelho e o outro é verde\":"
   ]
  },
  {
   "cell_type": "code",
   "execution_count": 228,
   "metadata": {
    "collapsed": false
   },
   "outputs": [
    {
     "data": {
      "text/plain": [
       "{'green yellow': 0.25925925925925924, 'yellow green': 0.7407407407407408}"
      ]
     },
     "execution_count": 228,
     "metadata": {},
     "output_type": "execute_result"
    }
   ],
   "source": [
    "def yellow_and_green(r): return 'yellow' in r and 'green' in r\n",
    "\n",
    "tal_que(yellow_and_green, MM)"
   ]
  },
  {
   "cell_type": "markdown",
   "metadata": {},
   "source": [
    "Agora podemos responder a pergunta: dado que tivemos amarelo e verde (mas não sabemos sabemos qual vem de qual pacote), qual é a probabilidade de que o amarelo tenha vido do pacote de 1994?"
   ]
  },
  {
   "cell_type": "code",
   "execution_count": 229,
   "metadata": {
    "collapsed": false
   },
   "outputs": [
    {
     "data": {
      "text/plain": [
       "0.7407407407407408"
      ]
     },
     "execution_count": 229,
     "metadata": {},
     "output_type": "execute_result"
    }
   ],
   "source": [
    "def yellow94(r): return r.startswith('yellow')\n",
    "\n",
    "P(yellow94, tal_que(yellow_and_green, MM))"
   ]
  },
  {
   "cell_type": "markdown",
   "metadata": {},
   "source": [
    "Então, há 74% de chance de que o amarelo tenha vindo do pacote de 1994.\n",
    "\n",
    "A forma de resolver o problema foi semelhante ao que já vínhamos fazendo: criar um espaço amostral, usar P para escolher a probabilidade do evento em questão, dado que sabemos sobre o retorno. \n",
    "\n",
    "Poderíamos usar o *Teorema de Bayes*, mas por que? Porque queremos saber a probabilidade de um evento dada uma evidência, que não está imediatamente disponível; entretanto, a probabilidade da evidência dado o evento está [disponível].\n",
    "\n",
    "Antes de ver as cores dos M&Ms, há duas hipóteses, A e B, ambas com igual probabilidade:\n",
    "\n",
    "```\n",
    "A: primeiro M&M do pacote de 1994, segundo do pacote de 1996\n",
    "B: primeiro M&M do pacote de 1996, segundo do pacote de 1994\n",
    "```\n",
    "\n",
    "\\begin{align*}\n",
    "P(A) = P(B) = 0.5\n",
    "\\end{align*}\n",
    "\n",
    "Então, temos uma evidência:\n",
    "\n",
    "```\n",
    "E: primeiro M&M amarelo, depois verde\n",
    "```\n",
    "\n",
    "Queremos saber a probabilidade da hipótese A, dada a evidência E: $P(A \\mid E)$.\n",
    "\n",
    "Isso não é fácil de calcular (exceto numerando o espaço amostral), mas o Teorema de Bayes diz:\n",
    "\n",
    "\\begin{align*}\n",
    "P(A \\mid E) = \\frac{P(E \\mid A) \\times P(A)}{P(E)} \n",
    "\\end{align*}\n",
    "\n",
    "As quantidades do lado direito são mais fáceis de calcular:\n",
    "\n",
    "\\begin{align*}\n",
    "P(E \\mid A) &= P(Yellow94) \\times P(Green96) &= 0.20 \\times 0.20 &= 0.04 \\\\\n",
    "P(E \\mid B) &= P(Yellow96) \\times P(Green94) &= 0.10 \\times 0.14 &= 0.014 \\\\\n",
    "P(A) &= 0.5 \\\\\n",
    "P(B) &= 0.5 \\\\\n",
    "P(E) &= P(E \\mid A) \\times P(A) + P(E \\mid B) \\times P(B) \\\\\n",
    "&= 0.04 \\times 0.5 + 0.014 \\times 0.5 = 0.027\n",
    "\\end{align*}\n",
    "\n",
    "O resultado final:\n",
    "\n",
    "\\begin{align*}\n",
    "P(A \\mid E) &= \\frac{P(E \\mid A) \\times P(A)}{P(E)} \\\\\n",
    "&= \\frac{0.4 \\times 0.5}{0.027} \\\\\n",
    "&= 0.7407407407\n",
    "\\end{align*}\n",
    "\n",
    "Então é isso. Você tem uma escolha: O Teorema de Bayes permite fazer menos cálculos, mas usa mais álgebra; é melhor custo-benefício se você estiver trabalhando com lápis e papel. Por outro lado, enumerar o espaço amostrar usa menos álgebra, pelo custo de requerer mais cálculos; é melhor custo-benefício se você estiver usando um computador. Idependentemente da abordagem utilizada, é importante conhecer o Teorema de Bayes e como ele funciona.\n",
    "\n",
    "Mais importante ainda: você comeria M&Ms de 20 anos?"
   ]
  }
 ],
 "metadata": {
  "anaconda-cloud": {},
  "kernelspec": {
   "display_name": "Python [conda root]",
   "language": "python",
   "name": "conda-root-py"
  },
  "language_info": {
   "codemirror_mode": {
    "name": "ipython",
    "version": 3
   },
   "file_extension": ".py",
   "mimetype": "text/x-python",
   "name": "python",
   "nbconvert_exporter": "python",
   "pygments_lexer": "ipython3",
   "version": "3.5.2"
  }
 },
 "nbformat": 4,
 "nbformat_minor": 1
}
