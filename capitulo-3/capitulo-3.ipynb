{
 "cells": [
  {
   "cell_type": "code",
   "execution_count": 4,
   "metadata": {
    "collapsed": true
   },
   "outputs": [],
   "source": [
    "%matplotlib inline\n",
    "import numpy as np\n",
    "import matplotlib.pyplot as plt\n",
    "from pylab import *"
   ]
  },
  {
   "cell_type": "markdown",
   "metadata": {},
   "source": [
    "# Relações\n",
    "\n",
    "Considere as relações a seguir, presentes no cotidiano:\n",
    "* parentesco\n",
    "* maior ou igual\n",
    "* igualdade\n",
    "* lista telefônica que associa a cada assinante o seu número (ou números) de telefone\n",
    "* faz fronteira com\n",
    "* filas de pessoas para os diversos caixas em um banco\n",
    "\n",
    "Suponha os conjuntos $A$ e $B$. Uma *relação* $R$ de $A$ em $B$ é um subconjunto de um produto cartesiano $A \\times B$, ou seja:\n",
    "\n",
    "\\begin{align*}\n",
    "R \\subseteq A \\times B\n",
    "\\end{align*}\n",
    "\n",
    "ou\n",
    "\n",
    "\\begin{align*}\n",
    "R : A \\rightarrow B\n",
    "\\end{align*}\n",
    "\n",
    "\n",
    "sendo que:\n",
    "* $A$ é o *domínio* (origem ou conjunto de partida de $R$)\n",
    "* $B$ é o *contradomínio* (destino ou conjunto de chegada de $R$)\n",
    "\n",
    "Os elementos de $R$ são pares (ou tuplas) dos elementos de $A$ e $B$, ou seja:\n",
    "\n",
    "\\begin{align*}\n",
    "\\langle a, b \\rangle \\in R\n",
    "\\end{align*}\n",
    "\n",
    "Uma relação pode ser caracterizada por uma propriedade. Neste caso, na notação de relação ($R : A \\rightarrow B$), $R$ assume uma propriedade. Por exemplo $\\mbox{=} : A \\rightarrow B$ define a relação de igualdade entre os conjuntos $A$ e $B$ tal que os elementos de $A$ sejam iguais aos elementos de $B$. Em outras palavras, os componentes das tuplas da relação $R$ terão que respeitar a propriedade de igualdade. A tupla $\\langle a, a \\rangle$ estaria presente na relação de igualdade de $A$ em $B$.\n",
    "\n",
    "Considere Os seguintes conjuntos: $A = \\{a\\}$, $B = \\{a, b\\}$ e $C = \\{0, 1, 2\\}$. As seguintes relações são válidas:\n",
    "* $\\mbox{=} : A \\rightarrow A = \\{ \\langle a, a \\rangle \\}$\n",
    "* $\\mbox{=} : A \\rightarrow B = \\{ \\langle a, a \\rangle \\}$\n",
    "* $\\lt : C \\rightarrow C = \\{ \\langle 0, 1 \\rangle , \\langle 1, 2 \\rangle \\}$\n",
    "\n",
    "**Exercício 3.1**: Defina as relações:\n",
    "1. $\\neq : B \\rightarrow C$\n",
    "2. $\\neq : A \\rightarrow B$\n",
    "\n",
    "## Endorrelação\n",
    "\n",
    "Um tipo de relação é a que considere o mesmo conjunto, ou seja $R : A \\rightarrow A$ (domínio e contradomínio são o mesmo conjunto). Uma endorrelação $R : A \\rightarrow A$ pode ser denotada por: $\\langle A, R \\rangle$. Por exemplo.\n",
    "1. $\\langle N, \\leq \\rangle$\n",
    "2. $\\langle P(A), \\subseteq \\rangle$\n",
    "\n",
    "## Representações gráficas de relações\n",
    "\n",
    "As relações podem ser representadas como diagramas de Venn, gráficos em um plano cartesiano ou grafos. A seguir, as seções demonstram como isso pode ser realizado.\n",
    "\n",
    "### Relações como diagramas de Venn\n",
    "\n",
    "Diagramas de Venn podem ser utilizados para representar visualmente relações. Na figura a seguir o diagrama da esquerda representa a relação $= : A \\rightarrow B$ e, o da esquerda, a relação $\\leq : C \\rightarrow C$. \n",
    "\n",
    "![Relações como diagramas de Venn](relacao-diagrama-de-venn.png)\n",
    "\n",
    "Em diagramas de Venn, o conjunto da esquerda é comumente chamado de *domínio* e o da esquerda de *imagem*.\n",
    "\n",
    "### Relações como planos cartesianos\n",
    "\n",
    "Gráficos em planos cartesianos podem representar relações. Em um plano cartesiano de duas dimensões, os eixos representam os conjuntos. Por exemplo, a relação $R = \\{ \\langle x, y \\rangle | y = sen(x)\\}$ pode ser representada pelo gráfico a seguir:"
   ]
  },
  {
   "cell_type": "code",
   "execution_count": 12,
   "metadata": {
    "collapsed": false
   },
   "outputs": [
    {
     "data": {
      "text/plain": [
       "[<matplotlib.lines.Line2D at 0x7a17b70>]"
      ]
     },
     "execution_count": 12,
     "metadata": {},
     "output_type": "execute_result"
    },
    {
     "data": {
      "image/png": "[encoded data removed]",
      "text/plain": [
       "<matplotlib.figure.Figure at 0x79462d0>"
      ]
     },
     "metadata": {},
     "output_type": "display_data"
    }
   ],
   "source": [
    "x = linspace(-10, 10)\n",
    "y = sin(x)\n",
    "plt.plot(x, y)"
   ]
  },
  {
   "cell_type": "markdown",
   "metadata": {},
   "source": [
    "A relação $R = \\{ \\langle x, y \\rangle | y = x^2 \\}$ pode ser representada pelo gráfico a seguir:"
   ]
  },
  {
   "cell_type": "code",
   "execution_count": 13,
   "metadata": {
    "collapsed": false
   },
   "outputs": [
    {
     "data": {
      "text/plain": [
       "[<matplotlib.lines.Line2D at 0x7cfaa50>]"
      ]
     },
     "execution_count": 13,
     "metadata": {},
     "output_type": "execute_result"
    },
    {
     "data": {
      "image/png": "[encoded data removed]",
      "text/plain": [
       "<matplotlib.figure.Figure at 0x7b6b470>"
      ]
     },
     "metadata": {},
     "output_type": "display_data"
    }
   ],
   "source": [
    "x = linspace(-10, 10)\n",
    "y = x ** 2\n",
    "plt.plot(x, y)"
   ]
  },
  {
   "cell_type": "markdown",
   "metadata": {},
   "source": [
    "### Relações como grafos\n",
    "\n",
    "A representação de grafos aplica-se apenas a *endorrelações*. Grafos podem ser representados como matrizes e como diagramas de vértices e arestas. \n",
    "\n",
    "Considere os conjuntos $A = \\{ a \\}$, $B = \\{ a, b \\}$ e $C = \\{ 0, 1, 2 \\}$.\n",
    "\n",
    "A relação $= : B \\rightarrow B$, definida por $\\{ \\langle a, a \\rangle , \\langle b, b \\rangle \\}$ seria representada pela matriz e pelo grafo a seguir.\n",
    "\n",
    "![Relações como matrizes e grafos](relacao-grafo-1.png)\n",
    "\n",
    "A relação $\\leq : C \\rightarrow C$ seria representada pela matriz e pelo grafo a seguir:\n",
    "\n",
    "![Relações como matrizes e grafos](relacao-grafo-2.png)"
   ]
  }
 ],
 "metadata": {
  "kernelspec": {
   "display_name": "Python 3",
   "language": "python",
   "name": "python3"
  },
  "language_info": {
   "codemirror_mode": {
    "name": "ipython",
    "version": 3
   },
   "file_extension": ".py",
   "mimetype": "text/x-python",
   "name": "python",
   "nbconvert_exporter": "python",
   "pygments_lexer": "ipython3",
   "version": "3.4.4"
  }
 },
 "nbformat": 4,
 "nbformat_minor": 0
}
