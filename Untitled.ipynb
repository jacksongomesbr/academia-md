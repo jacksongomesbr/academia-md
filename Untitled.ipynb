{
 "cells": [
  {
   "cell_type": "markdown",
   "metadata": {},
   "source": [
    "# Relações\n",
    "\n",
    "## O que é uma relação?\n",
    "\n",
    "Uma **relação $R$ de um conjunto $X$ a um conjunto $Y$** é um conjunto de pares ordenados $(x,y)$ com $x \\in X$ e $y \\in Y$, ou seja:\n",
    "\n",
    "\\begin{align*}\n",
    "R \\subseteq X \\times Y\n",
    "\\end{align*}\n",
    "\n",
    "sendo que:\n",
    "* $X$ é denominado _domínio_ ou _origem_\n",
    "* $Y$ é denominado _contradomínio_, _destino_ ou _imagem_\n",
    "\n",
    "Quando $X = Y$ dizemos que uma **relação em um conjunto $X$** é um conjunto de pares ordenados $(x_1, x_2)$ com $x_1, x_2 \\in X$. \n",
    "\n",
    "**Exemplo: Considere os conjuntos $A=\\{a\\}$, $B=\\{a, b\\}$ e $C=\\{0, 1, 2\\}$. Pode-se afirmar que são relações:**\n",
    "\n",
    "a) $\\{\\}$ é uma relação de $A$ em $B$, assim como de $A$ em $C$ porque o conjunto vazio é subconjunto de qualquer conjunto.\n",
    "\n",
    "b) $A \\times B = \\{(a,a), (a,b)\\}$ é uma relação com origem em $A$ e destino $B$, pois $A \\times B \\subseteq A \\times B$.\n",
    "\n",
    "\n",
    "## Funções como relações\n",
    "\n",
    "Considere as funções definidas no conjunto $\\{1, 2, 3, 4, 5\\}$ pelas regras:\n",
    "\n",
    "a) $f(x) = x^5 + 15x^4 + 85x^3 - 224x^2 - 111$ e \n",
    "\n",
    "b) $g(x) = x^2 - 6x + 9$.\n",
    "\n",
    "Elas são a mesma função ou são funções diferentes?"
   ]
  },
  {
   "cell_type": "code",
   "execution_count": null,
   "metadata": {
    "collapsed": true
   },
   "outputs": [],
   "source": [
    "\n"
   ]
  }
 ],
 "metadata": {
  "kernelspec": {
   "display_name": "Python 3",
   "language": "python",
   "name": "python3"
  },
  "language_info": {
   "codemirror_mode": {
    "name": "ipython",
    "version": 3
   },
   "file_extension": ".py",
   "mimetype": "text/x-python",
   "name": "python",
   "nbconvert_exporter": "python",
   "pygments_lexer": "ipython3",
   "version": "3.4.4"
  }
 },
 "nbformat": 4,
 "nbformat_minor": 1
}
