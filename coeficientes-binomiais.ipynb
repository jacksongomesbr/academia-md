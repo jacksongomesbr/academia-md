{
 "cells": [
  {
   "cell_type": "markdown",
   "metadata": {},
   "source": [
    "# Coeficientes binomiais\n",
    "\n",
    "## Teorema do binômio\n",
    "\n",
    "Para qualquer inteiro $n \\geq 0$,\n",
    "\n",
    "\\begin{align*}\n",
    "(x + y)^n = \\binom{n}{0} x^{n-0}y^0 + \\binom{n}{1} x^{n-1}y^1 + \\binom{n}{2}x^{n-2}y^2 + ... + \\binom{n}{n - 1}x^1y^{n-1} + \\binom{n}{n}x^0y^n\n",
    "\\end{align*}\n",
    "\n",
    "ou, em notação de somatório,\n",
    "\n",
    "\\begin{align*}\n",
    "(x + y)^n = \\sum^{n}_{i=0} \\binom{n}{i} x^{n-i}y^i\n",
    "\\end{align*}\n",
    "\n",
    "**Exemplo: Encontre o valor da equação $(x+y)^3$ usando o teorema do binômio:**\n",
    "\n",
    "\\begin{align*}\n",
    "(x+y)^3 &= \\binom{3}{0}x^3 + \\binom{3}{1}x^2y + \\binom{3}{2}xy^2 + \\binom{3}{3}y^3 \\\\\n",
    "&= x^3 + 3x^2y + 3xy^2 + y^3\n",
    "\\end{align*}\n",
    "\n",
    "Verifique que o valor é o mesmo que se tentássemos resolver $(x+y)(x+y)(x+y)$ aplicando leis distributivas.\n",
    "\n",
    "**Exercício: Aplique o teorema do binômio para encontrar o valor das equações a seguir:**\n",
    "\n",
    "a) $(x+1)^4$\n",
    "\n",
    "b) $(2+y)^4$\n",
    "\n",
    "c) $(x+y)^4$\n",
    "\n",
    "## Rotulagem\n",
    "\n",
    "O número de maneiras de aplicar $k$ rótulos de um tipo e $n-k$ rótulos de outro tipo a $n$ objetos é $\\binom{n}{k}$.\n",
    "\n",
    "## Coeficiente trinomial\n",
    "\n",
    "O coeficiente trinomial $\\binom{n}{k_1, k_2, k_3}$ é $\\frac{n!}{k_1!k_2!k_3!}$ se $k_1 + k_2 + k_3 = n$, caso contrário, é $0$.\n",
    "\n",
    "## Teorema do trinômio\n",
    "\n",
    "Para qualquer inteiro $n \\geq 0$\n",
    "\n",
    "\\begin{align*}\n",
    "(x+y+z)^n = \\binom{n}{i, j, k}\n",
    "\\end{align*}\n",
    "\n",
    "Considerando $x^iy^jz^k$ e $i + j + k = n$."
   ]
  }
 ],
 "metadata": {
  "anaconda-cloud": {},
  "kernelspec": {
   "display_name": "Python [conda root]",
   "language": "python",
   "name": "conda-root-py"
  },
  "language_info": {
   "codemirror_mode": {
    "name": "ipython",
    "version": 3
   },
   "file_extension": ".py",
   "mimetype": "text/x-python",
   "name": "python",
   "nbconvert_exporter": "python",
   "pygments_lexer": "ipython3",
   "version": "3.5.2"
  }
 },
 "nbformat": 4,
 "nbformat_minor": 1
}
