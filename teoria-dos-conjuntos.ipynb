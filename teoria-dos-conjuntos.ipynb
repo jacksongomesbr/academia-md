{
 "cells": [
  {
   "cell_type": "code",
   "execution_count": 4,
   "metadata": {
    "collapsed": true
   },
   "outputs": [],
   "source": [
    "%matplotlib inline"
   ]
  },
  {
   "cell_type": "markdown",
   "metadata": {},
   "source": [
    "# Teoria dos conjuntos"
   ]
  },
  {
   "cell_type": "markdown",
   "metadata": {},
   "source": [
    "Os **conjuntos** são a base da forma de representação de enumerações de elementos em matemática discreta. Por definição um conjunto é:\n",
    "\n",
    "> uma estrutura que agrupa objetos e constitui uma base para construir estruturas mais complexas.\n",
    "\n",
    "Em outras palavras, um conjunto é uma **coleção de elementos**, ou uma lista de elementos. \n",
    "\n",
    "Segue uma definição mais formal:\n",
    "\n",
    "> Um *conjunto* é uma coleção de zero ou mais objetos distintos, chamados *elementos* do conjunto, os quais não possuem qualquer ordem associada.\n",
    "\n",
    "O fato de não haver uma *ordem associada* não significa que os elementos não possam estar ordenados, num dado contexto, conforme algum critério. Apenas indica que, no geral, isso não é obrigatório.\n",
    "\n",
    "Há três formas de representar conjuntos: notação por extensão e notação por compreensão.\n",
    "\n",
    "*Notação por extensão* é quando todos os elementos do conjunto estão enumerados, representados entre chaves e separados por vírgula. Exemplo: \n",
    "\n",
    "$\\mbox{Vogais} = \\{a, e, i, o, u\\}$.\n",
    "\n",
    "Entende-se que se um conjunto pode ser representado por extensão, então ele é *finito*. Caso contrário, é *infinito*.\n",
    "\n",
    "*Notação por compreensão*: quando é usada uma representação por propriedades. Os exemplos usam uma pequena diferença de notação, mas representam a mesma coisa: \n",
    "\n",
    "- $\\mbox{Pares} = \\{ n | n \\mbox{ é um número par}\\}$\n",
    "- $\\mbox{Pares} = \\{ n : n \\mbox{ é um número par}\\}$\n",
    "\n",
    "Este conjunto é interpretado como: o conjunto de todos os elementos $n$ tal que $n$ é um número par. A forma geral de representar um conjunto por propriedades é:\n",
    "\n",
    "$X = \\{x : p(x)\\}$\n",
    "\n",
    "Isso quer dizer que $x$ é um elemento de $X$ se a propriedade $p(x)$ for verdadeira.\n",
    "\n",
    "A notação por propriedades é uma boa forma de representar conjuntos *infinitos*.\n",
    "\n",
    "Há ainda uma outra forma aceitável de representar conjuntos usando uma representação semelhante à de por extensão. Exemplos:\n",
    "- $\\mbox{Digitos} = \\{0, 1, 2, ..., 9\\}$\n",
    "- $\\mbox{Pares} = \\{0, 2, 4, 6, ...\\}$\n",
    "\n",
    "Embora haja elementos ausentes, substituídos por reticências ($...$) é completamente aceitável e entendível o que se quer informar com a descrição do conjunto.\n",
    "\n",
    "A seguir, revemos conceitos de algumas relações entre e com conjuntos ou elementos."
   ]
  },
  {
   "cell_type": "markdown",
   "metadata": {},
   "source": [
    "## Pertinência"
   ]
  },
  {
   "cell_type": "markdown",
   "metadata": {},
   "source": [
    "Se um elemento $a$ pertence ao conjunto $A$ isso é representado como: $a \\in A$. Caso contrário, se $a$ não pertence a $A$, então representa-se como: $a \\not\\in A$.\n",
    "\n",
    "**Exemplos**: Pertence, não pertence:\n",
    "- Quanto ao conjunto $\\mbox{Vogais} = \\{a, e, i, o, u\\}$:\n",
    "    - $a \\in \\mbox{Vogais}$\n",
    "    - $h \\not\\in \\mbox{Vogais}$\n",
    "- Quanto ao conjunto $B = \\{x : x \\mbox{ é brasileiro}\\}$:\n",
    "    - $\\mbox{Pele} \\in B$\n",
    "    - $\\mbox{Bill Gates} \\not\\in B$"
   ]
  },
  {
   "cell_type": "markdown",
   "metadata": {},
   "source": [
    "## Conjuntos importantes"
   ]
  },
  {
   "cell_type": "markdown",
   "metadata": {},
   "source": [
    "O **conjunto vazio** é um conjunto sem elementos, representado como $\\{\\}$ ou $\\emptyset$. Exemplos:\n",
    "- o  conjunto de todos os brasileiros com mais de 300 anos;\n",
    "- o conjunto dos números que são, simultaneamente, ímpares e pares.\n",
    "\n",
    "O **conjunto unitário** é um conjunto constituído por um único elemento. Exemplos:\n",
    "- o conjunto constituído pelo jogador de futebol Pelé;\n",
    "- o conjunto de todos os números que são, simultaneamente, pares e primos, ou seja: $P = \\{2\\}$;\n",
    "- um conjunto unitário cujo elemento é irrelevante: $1 = \\{*\\}$.\n",
    "\n",
    "O **conjunto universo**, normalmente denotado por $U$, contém todos os conjuntos considerados em um dado contexto. Por isso, não é fixo (pois depende do contexto).\n",
    "\n",
    "Outros conjuntos importantes:\n",
    "- $N$: o conjunto dos números naturais (inteiros positivos e o zero)\n",
    "- $Z$: o conjunto dos números inteiros (inteiros negativos, positivos e o zero)\n",
    "- $Q$: o conjunto dos números racionais (os que podem ser representados na forma de fração)\n",
    "- $I$: o conjunto dos números irracionais\n",
    "- $R$: o conjunto dos números reais"
   ]
  },
  {
   "cell_type": "markdown",
   "metadata": {},
   "source": [
    "## Alfabetos, palavras e linguagens"
   ]
  },
  {
   "cell_type": "markdown",
   "metadata": {},
   "source": [
    "Em computação, e mais especificamente em linguagens de programação, um conceito importante é o que define o conjunto de elementos ou termos-chave da linguagem. \n",
    "\n",
    "Um **alfabeto** é:\n",
    "\n",
    "> um conjunto finito cujos elementos são denominados *símbolos* ou *caracteres*.\n",
    "\n",
    "Uma **palavra** (cadeia de caracteres ou sentença) sobre um alfabeto é:\n",
    "\n",
    "> uma sequência finita de símbolos justapostos.\n",
    "\n",
    "Uma **linguagem [formal]** é\n",
    "\n",
    "> um conjunto de palavras sobre um alfabeto.\n",
    "\n",
    "**Exemplos**: alfabeto, palavra\n",
    "- Os conjuntos $\\emptyset$ e $\\{a, b, c\\}$ são alfabetos\n",
    "- O conjunto $N$ não é um alfabeto\n",
    "- $\\epsilon$ é uma palavra vazia\n",
    "- $\\Sigma$ é geralmente usada para representar um alfabeto\n",
    "- $\\Sigma^*$ é o conjunto de todas as palavras possíveis sobre o alfabeto $\\Sigma$\n",
    "- $\\epsilon$ é uma palavra do alfabeto $\\emptyset$\n",
    "- $\\{a, b\\}^* = \\{\\epsilon, a, b, aa, ab, ba, bb, aaa, ...\\}$"
   ]
  },
  {
   "cell_type": "markdown",
   "metadata": {},
   "source": [
    "## Continência, subconjunto e igualdade de conjuntos"
   ]
  },
  {
   "cell_type": "markdown",
   "metadata": {},
   "source": [
    "A *continência* permite introduzir os conceitos de *subconjunto* e *igualdade de conjunto*.\n",
    "\n",
    "Se todos os elementos de um conjunto $A$ também são elementos de um conjunto $B$, então $A$ está *contido* em $B$, o que é representado por: $A \\subseteq B$. Isso também é lido como $A$ é *subconjunto* de $B$.\n",
    "\n",
    "Se $A \\subseteq B$, mas há $b \\in B$ tal que $b \\not\\in A$, então pode-se dizer que $A$ está *contido propriamente* em $B$, ou que $A$ é *subconjunto próprio* de $B$. Isso é denotado por: $A \\subset B$.\n",
    "\n",
    "A negação de *subconjunto* e *subconjunto próprio* é, respectivamente:\n",
    "- $A \\not\\subseteq B$ e\n",
    "- $A \\not\\subset B$\n",
    "\n",
    "**Exemplos**: continência, subconjunto\n",
    "- $\\{a, b\\} \\subseteq \\{b, a\\}$\n",
    "- $\\{a, b\\} \\subset \\{a, b, c\\}$, e $\\{a, b\\} \\subseteq \\{a, b, c\\}$\n",
    "\n",
    "Se os elementos de $A$ também são elementos de $B$ e vice-versa, então $A = B$. Formalmente, uma condição para $A = B$ é que $A \\subseteq B$ e $B \\subseteq A$.\n",
    "\n",
    "**Exemplo**:\n",
    "- $\\{1, 2, 3\\} = \\{3, 3, 3, 2, 2, 1\\}$\n",
    "\n",
    "É importante notar que pertinência ($\\in$) é usado entre elementos e conjuntos, enquanto continência ($\\subset$ e $\\subseteq$) é usada entre conjuntos.\n",
    "\n",
    "Por definição, um conjunto qualquer é subconjunto de si mesmo, e $\\emptyset$ é subconjunto de qualquer conjunto. \n",
    "\n",
    "**Exemplo**:\n",
    "- Seja $A = \\{1, 2\\}$ então os subconjuntos de $A$ são: $\\emptyset$, $\\{1\\}$, $\\{2\\}$ e $\\{1, 2\\}$."
   ]
  }
 ],
 "metadata": {
  "kernelspec": {
   "display_name": "Python 3",
   "language": "python",
   "name": "python3"
  },
  "language_info": {
   "codemirror_mode": {
    "name": "ipython",
    "version": 3
   },
   "file_extension": ".py",
   "mimetype": "text/x-python",
   "name": "python",
   "nbconvert_exporter": "python",
   "pygments_lexer": "ipython3",
   "version": "3.4.4"
  }
 },
 "nbformat": 4,
 "nbformat_minor": 0
}
