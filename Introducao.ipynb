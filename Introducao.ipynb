{
 "metadata": {
  "name": "",
  "signature": "sha256:e86f56c08973a09d0a081ed92966f9b8bfb4ee3d6e9f44c09fe7428b0518e977"
 },
 "nbformat": 3,
 "nbformat_minor": 0,
 "worksheets": [
  {
   "cells": [
    {
     "cell_type": "heading",
     "level": 1,
     "metadata": {},
     "source": [
      "Introdu\u00e7\u00e3o"
     ]
    },
    {
     "cell_type": "code",
     "collapsed": false,
     "input": [
      "%matplotlib inline"
     ],
     "language": "python",
     "metadata": {},
     "outputs": [],
     "prompt_number": 2
    },
    {
     "cell_type": "markdown",
     "metadata": {},
     "source": [
      "## Matem\u00e1tica Discreta\n",
      "\n",
      "As Diretrizes Curriculares do MEC para os cursos de computa\u00e7\u00e3o e inform\u00e1tica definem que:\n",
      "\n",
      "> A matem\u00e1tica, para a \u00e1rea de computa\u00e7\u00e3o, deve ser vista como uma ferramenta a ser usada na defini\u00e7\u00e3o formal de conceitos computacionais (linguagens, aut\u00f4matos, m\u00e9todos etc.). Os modelos formais permitem definir suas propriedades e dimensionar suas inst\u00e2ncias, dadas suas condi\u00e7\u00f5es de contorno.\n",
      "\n",
      "Al\u00e9m disso, afirma:\n",
      "\n",
      "> Considerando que a maioria dos conceitos computacionais pertencem ao dom\u00ednio discreto, a **matem\u00e1tica discreta** (ou tamb\u00e9m chamada \u00e1lgebra abstrata) \u00e9 fortemente empregada.\n",
      "\n",
      "Desta forma, a **Matem\u00e1tica Discreta** preocupa-se com o emprego de t\u00e9cnicas e abordagens da matem\u00e1tica para o entendimento de problemas a serem resolvidos com computa\u00e7\u00e3o. Mas o que significa ser **discreto**? A matem\u00e1tica, por si, trata tamb\u00e9m do dom\u00ednio **cont\u00ednuo**. Assim, estes dom\u00ednios s\u00e3o opostos: cont\u00ednuo e discreto. Para entender isso melhor, observe o gr\u00e1fico a seguir:"
     ]
    },
    {
     "cell_type": "code",
     "collapsed": false,
     "input": [
      "from pylab import *"
     ],
     "language": "python",
     "metadata": {},
     "outputs": [],
     "prompt_number": 3
    },
    {
     "cell_type": "code",
     "collapsed": false,
     "input": [
      "x = linspace(0, 5, 5)\n",
      "y = x ** 2\n",
      "subplot(1,2,1)\n",
      "plot(x, y, 'r-')\n",
      "subplot(1,2,2)\n",
      "plot(x, y, 'g*-');"
     ],
     "language": "python",
     "metadata": {},
     "outputs": [
      {
       "metadata": {},
       "output_type": "display_data",
       "png": "[encoded data removed]",
       "text": [
        "<matplotlib.figure.Figure at 0x7915c10>"
       ]
      }
     ],
     "prompt_number": 10
    },
    {
     "cell_type": "markdown",
     "metadata": {},
     "source": [
      "O gr\u00e1fico representa a fun\u00e7\u00e3o $y = x^2$, com $0 \\leq x \\leq 5$. O gr\u00e1fico da direita destaca os pontos selecionados. Neste gr\u00e1fico, h\u00e1 6 amostras, de 0 a 6.\n",
      "\n",
      "Aumentando-se o n\u00famero de amostras em dois instantes, para 100 e para 1000 tem-se:"
     ]
    },
    {
     "cell_type": "code",
     "collapsed": false,
     "input": [
      "x1 = linspace(0, 5, 100)\n",
      "y1 = x1 ** 2\n",
      "x2 = linspace(0, 5, 1000)\n",
      "y2 = x2 ** 2\n",
      "subplot(1,2,1)\n",
      "plot(x1, y1, 'r-')\n",
      "subplot(1,2,2)\n",
      "plot(x2, y2, 'r-');"
     ],
     "language": "python",
     "metadata": {},
     "outputs": [
      {
       "metadata": {},
       "output_type": "display_data",
       "png": "[encoded data removed]",
       "text": [
        "<matplotlib.figure.Figure at 0x7a0ab70>"
       ]
      }
     ],
     "prompt_number": 11
    },
    {
     "cell_type": "markdown",
     "metadata": {},
     "source": [
      "O que se pode perceber \u00e9 que quanto mais se aumenta o n\u00famero de amostras, mais se aproxima de uma curva perfeita. Entretanto, h\u00e1 um certo limite de percep\u00e7\u00e3o da perfei\u00e7\u00e3o dessa curva, por assim dizer. Por exemplo, embora a quantidade de amostras do gr\u00e1fico da esquerda seja menor, a diferen\u00e7a para o gr\u00e1fico da direita, visualmente falando, \u00e9 pouco percept\u00edvel.\n",
      "\n",
      "Considere outro exemplo: um computador possui uma capacidade de armazenamento virtualmente infinita. \"Virtualmente\" porque embora se aceite um limite, ele n\u00e3o \u00e9 conhecido, j\u00e1 que a quantidade de unidades de armazemamento pode ser bastante grande. Assim, no contexto da computa\u00e7\u00e3o, embora algo possa ser considerado finito ou infinito, ele \u00e9 *cont\u00e1vel* ou *discreto* no sentido de que pode ser enumerado ou sequenciado, de forma que n\u00e3o existe um elemento entre quaisquer dois elementos consecutivos da enumera\u00e7\u00e3o. Em outras palavras, se um computador possui dois discos r\u00edgidos (D1 e D2), n\u00e3o surgir\u00e1, do nada, um terceiro disco ou meio disco entre D1 e D2.\n",
      "\n",
      "No exemplo do computador, embora a quantidade de unidades de armazenamento n\u00e3o seja conhecida, ela \u00e9 cont\u00e1vel e enumer\u00e1vel. Na matem\u00e1tica, o conjunto dos n\u00fameros naturais \u00e9 cont\u00e1vel, equanto o conjunto dos n\u00fameros reais n\u00e3o \u00e9 cont\u00e1vel. \n",
      "\n",
      "Assim, a matem\u00e1tica discreta possui como \u00eanfase os estudos matem\u00e1ticos baseados em conjuntos cont\u00e1veis, sejam eles finitos ou infinitos. De forma oposta, a *matem\u00e1tica do continuum* possui \u00eanfase nos conjuntos n\u00e3o cont\u00e1veis. Um exemplo disso s\u00e3o o c\u00e1lculo diferencial e integral."
     ]
    },
    {
     "cell_type": "heading",
     "level": 2,
     "metadata": {},
     "source": [
      "Teoria dos conjuntos"
     ]
    },
    {
     "cell_type": "markdown",
     "metadata": {},
     "source": [
      "Os **conjuntos** s\u00e3o a base da forma de representa\u00e7\u00e3o de enumera\u00e7\u00f5es de elementos em matem\u00e1tica discreta. Por defini\u00e7\u00e3o um conjunto \u00e9:\n",
      "\n",
      "> uma estrutura que agrupa objetos e constitui uma base para construir estruturas mais complexas.\n",
      "\n",
      "Em outras palavras, um conjunto \u00e9 uma cole\u00e7\u00e3o, ou uma lista, de elementos. \n",
      "\n",
      "Segue uma defini\u00e7\u00e3o mais formal:\n",
      "\n",
      "> Um *conjunto* \u00e9 uma cole\u00e7\u00e3o de zero ou mais objetos distintos, chamados *elementos* do conjunto, os quais n\u00e3o possuem qualquer ordem associada.\n",
      "\n",
      "O fato de n\u00e3o haver uma *ordem associada* n\u00e3o significa que os elementos n\u00e3o possam estar ordenados, num dado contexto, conforme algum crit\u00e9rio. Apenas indica que, no geral, isso n\u00e3o \u00e9 obrigat\u00f3rio.\n",
      "\n",
      "H\u00e1 tr\u00eas formas de representar conjuntos: nota\u00e7\u00e3o por extens\u00e3o e nota\u00e7\u00e3o por compreens\u00e3o.\n",
      "\n",
      "*Nota\u00e7\u00e3o por extens\u00e3o* \u00e9 quando todos os elementos do conjunto est\u00e3o enumerados, representados entre chaves e separados por v\u00edrgula. Exemplo: \n",
      "\n",
      "$\\mbox{Vogais} = \\{a, e, i, o, u\\}$.\n",
      "\n",
      "Entende-se que se um conjunto pode ser representado por extens\u00e3o, ent\u00e3o ele \u00e9 *finito*. Caso contr\u00e1rio, \u00e9 *infinito*.\n",
      "\n",
      "*Nota\u00e7\u00e3o por compreens\u00e3o*: quando \u00e9 usada uma representa\u00e7\u00e3o por propriedades. Os exemplos usam uma pequena diferen\u00e7a de nota\u00e7\u00e3o, mas representam a mesma coisa: \n",
      "\n",
      "- $\\mbox{Pares} = \\{ n | n \\mbox{ \u00e9 um n\u00famero par}\\}$\n",
      "- $\\mbox{Pares} = \\{ n : n \\mbox{ \u00e9 um n\u00famero par}\\}$\n",
      "\n",
      "Este conjunto \u00e9 interpretado como: o conjunto de todos os elementos $n$ tal que $n$ \u00e9 um n\u00famero par. A forma geral de representar um conjunto por propriedades \u00e9:\n",
      "\n",
      "$X = \\{x : p(x)\\}$\n",
      "\n",
      "Isso quer dizer que $x$ \u00e9 um elemento de $X$ se a propriedade $p(x)$ for verdadeira.\n",
      "\n",
      "A nota\u00e7\u00e3o por propriedades \u00e9 uma boa forma de representar conjuntos *infinitos*.\n",
      "\n",
      "H\u00e1 ainda uma outra forma aceit\u00e1vel de representar conjuntos usando uma representa\u00e7\u00e3o semelhante \u00e0 de por extens\u00e3o. Exemplos:\n",
      "- $\\mbox{Digitos} = \\{0, 1, 2, ..., 9\\}$\n",
      "- $\\mbox{Pares} = \\{0, 2, 4, 6, ...\\}$\n",
      "\n",
      "Embora haja elementos ausentes, substitu\u00eddos por retic\u00eancias ($...$) \u00e9 completamente aceit\u00e1vel e entend\u00edvel o que se quer informar com a descri\u00e7\u00e3o do conjunto.\n",
      "\n",
      "A seguir, revemos conceitos de algumas rela\u00e7\u00f5es entre e com conjuntos ou elementos."
     ]
    },
    {
     "cell_type": "heading",
     "level": 3,
     "metadata": {},
     "source": [
      "Pertin\u00eancia"
     ]
    },
    {
     "cell_type": "markdown",
     "metadata": {},
     "source": [
      "Se um elemento $a$ pertence ao conjunto $A$ isso \u00e9 representado como: $a \\in A$. Caso contr\u00e1rio, se $a$ n\u00e3o pertence a $A$, ent\u00e3o representa-se como: $a \\not\\in A$.\n",
      "\n",
      "**Exemplos**: Pertence, n\u00e3o pertence:\n",
      "- Quanto ao conjunto $\\mbox{Vogais} = \\{a, e, i, o, u\\}$:\n",
      "    - $a \\in \\mbox{Vogais}$\n",
      "    - $h \\not\\in \\mbox{Vogais}$\n",
      "- Quanto ao conjunto $B = \\{x : x \\mbox{ \u00e9 brasileiro}\\}$:\n",
      "    - $\\mbox{Pele} \\in B$\n",
      "    - $\\mbox{Bill Gates} \\not\\in B$"
     ]
    },
    {
     "cell_type": "heading",
     "level": 3,
     "metadata": {},
     "source": [
      "Conjuntos importantes"
     ]
    },
    {
     "cell_type": "markdown",
     "metadata": {},
     "source": [
      "O **conjunto vazio** \u00e9 um conjunto sem elementos, representado como $\\{\\}$ ou $\\emptyset$. Exemplos:\n",
      "- o  conjunto de todos os brasileiros com mais de 300 anos;\n",
      "- o conjunto dos n\u00fameros que s\u00e3o, simultaneamente, \u00edmpares e pares.\n",
      "\n",
      "O **conjunto unit\u00e1rio** \u00e9 um conjunto constitu\u00eddo por um \u00fanico elemento. Exemplos:\n",
      "- o conjunto constitu\u00eddo pelo jogador de futebol Pel\u00e9;\n",
      "- o conjunto de todos os n\u00fameros que s\u00e3o, simultaneamente, pares e primos, ou seja: $P = \\{2\\}$;\n",
      "- um conjunto unit\u00e1rio cujo elemento \u00e9 irrelevante: $1 = \\{*\\}$.\n",
      "\n",
      "O **conjunto universo**, normalmente denotado por $U$, cont\u00e9m todos os conjuntos considerados em um dado contexto. Por isso, n\u00e3o \u00e9 fixo (pois depende do contexto).\n",
      "\n",
      "Outros conjuntos importantes:\n",
      "- $N$: o conjunto dos n\u00fameros naturais (inteiros positivos e o zero)\n",
      "- $Z$: o conjunto dos n\u00fameros inteiros (inteiros negativos, positivos e o zero)\n",
      "- $Q$: o conjunto dos n\u00fameros racionais (os que podem ser representados na forma de fra\u00e7\u00e3o)\n",
      "- $I$: o conjunto dos n\u00fameros irracionais\n",
      "- $R$: o conjunto dos n\u00fameros reais"
     ]
    },
    {
     "cell_type": "heading",
     "level": 3,
     "metadata": {},
     "source": [
      "Alfabetos, palavras e linguagens"
     ]
    },
    {
     "cell_type": "markdown",
     "metadata": {},
     "source": [
      "Em computa\u00e7\u00e3o, e mais especificamente em linguagens de programa\u00e7\u00e3o, um conceito importante \u00e9 o que define o conjunto de elementos ou termos-chave da linguagem. \n",
      "\n",
      "Um **alfabeto** \u00e9:\n",
      "\n",
      "> um conjunto finito cujos elementos s\u00e3o denominados *s\u00edmbolos* ou *caracteres*.\n",
      "\n",
      "Uma **palavra** (cadeia de caracteres ou senten\u00e7a) sobre um alfabeto \u00e9:\n",
      "\n",
      "> uma sequ\u00eancia finita de s\u00edmbolos justapostos.\n",
      "\n",
      "Uma **linguagem [formal]** \u00e9\n",
      "\n",
      "> um conjunto de palavras sobre um alfabeto.\n",
      "\n",
      "**Exemplos**: alfabeto, palavra\n",
      "- Os conjuntos $\\emptyset$ e $\\{a, b, c\\}$ s\u00e3o alfabetos\n",
      "- O conjunto $N$ n\u00e3o \u00e9 um alfabeto\n",
      "- $\\epsilon$ \u00e9 uma palavra vazia\n",
      "- $\\Sigma$ \u00e9 geralmente usada para representar um alfabeto\n",
      "- $\\Sigma^*$ \u00e9 o conjunto de todas as palavras poss\u00edveis sobre o alfabeto $\\Sigma$\n",
      "- $\\epsilon$ \u00e9 uma palavra do alfabeto $\\emptyset$\n",
      "- $\\{a, b\\}^* = \\{\\epsilon, a, b, aa, ab, ba, bb, aaa, ...\\}$"
     ]
    },
    {
     "cell_type": "heading",
     "level": 3,
     "metadata": {},
     "source": [
      "Subconjunto e igualdade de conjuntos"
     ]
    },
    {
     "cell_type": "markdown",
     "metadata": {},
     "source": [
      "A *contin\u00eancia* permite introduzir os conceitos de *subconjunto* e *igualdade de conjunto*.\n",
      "\n",
      "Se todos os elementos de um conjunto $A$ tamb\u00e9m s\u00e3o elementos de um conjunto $B$, ent\u00e3o $A$ est\u00e1 *contido* em $B$, o que \u00e9 representado por: $A \\subseteq B$. Isso tamb\u00e9m \u00e9 lido como $A$ \u00e9 *subconjunto* de $B$.\n",
      "\n",
      "Se $A \\subseteq B$, mas h\u00e1 $b \\in B$ tal que $b \\not\\in A$, ent\u00e3o pode-se dizer que $A$ est\u00e1 *contido propriamente* em $B$, ou que $A$ \u00e9 *subconjunto pr\u00f3prio* de $B$. Isso \u00e9 denotado por: $A \\subset B$.\n",
      "\n",
      "A nega\u00e7\u00e3o de *subconjunto* e *subconjunto pr\u00f3prio* \u00e9, respectivamente:\n",
      "- $A \\not\\subseteq B$ e\n",
      "- $A \\not\\subset B$\n",
      "\n",
      "**Exemplos**: contin\u00eancia, subconjunto\n",
      "- $\\{a, b\\} \\subseteq \\{b, a\\}$\n",
      "- $\\{a, b\\} \\subset \\{a, b, c\\}$, e $\\{a, b\\} \\subseteq \\{a, b, c\\}$\n",
      "\n",
      "Se os elementos de $A$ tamb\u00e9m s\u00e3o elementos de $B$ e vice-versa, ent\u00e3o $A = B$. Formalmente, uma condi\u00e7\u00e3o para $A = B$ \u00e9 que $A \\subseteq B$ e $B \\subseteq A$.\n",
      "\n",
      "**Exemplo**:\n",
      "- $\\{1, 2, 3\\} = \\{3, 3, 3, 2, 2, 1\\}$\n",
      "\n",
      "\u00c9 importante notar que pertin\u00eancia ($\\in$) \u00e9 usado entre elementos e conjuntos, enquanto contin\u00eancia ($\\subset$ e $\\subseteq$) \u00e9 usada entre conjuntos.\n",
      "\n",
      "Por defini\u00e7\u00e3o, um conjunto qualquer \u00e9 subconjunto de si mesmo, e $\\emptyset$ \u00e9 subconjunto de qualquer conjunto. \n",
      "\n",
      "**Exemplo**:\n",
      "- Seja $A = \\{1, 2\\}$ ent\u00e3o os subconjuntos de $A$ s\u00e3o: $\\emptyset$, $\\{1\\}$, $\\{2\\}$ e $\\{1, 2\\}$."
     ]
    }
   ],
   "metadata": {}
  }
 ]
}