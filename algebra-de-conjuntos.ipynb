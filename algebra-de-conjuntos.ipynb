{
 "metadata": {
  "name": "",
  "signature": "sha256:a4607390d0264c7aa640a056713b4414e405b3efd602b0715a2f8d2043c2f652"
 },
 "nbformat": 3,
 "nbformat_minor": 0,
 "worksheets": [
  {
   "cells": [
    {
     "cell_type": "heading",
     "level": 1,
     "metadata": {},
     "source": [
      "\u00c1lgebra de Conjuntos"
     ]
    },
    {
     "cell_type": "code",
     "collapsed": false,
     "input": [
      "%matplotlib inline"
     ],
     "language": "python",
     "metadata": {},
     "outputs": [],
     "prompt_number": 1
    },
    {
     "cell_type": "markdown",
     "metadata": {},
     "source": [
      "> \u00c1lgebra \u00e9 constitu\u00edda de opera\u00e7\u00f5es definidas sobre uma sole\u00e7\u00e3o de objetos. Neste contexto, *\u00e1lgebra de conjuntos* corresponderia \u00e0s opera\u00e7\u00f5es definidas sobre todos os conjuntos.\n",
      "\n",
      "As opera\u00e7\u00f5es da \u00e1lgebra de conjuntos podem ser *n\u00e3o revers\u00edveis* e *revers\u00edveis*:\n",
      "- N\u00e3o revers\u00edveis\n",
      "    - Uni\u00e3o\n",
      "    - Intersec\u00e7\u00e3o\n",
      "    - Diferen\u00e7a\n",
      "- Revers\u00edveis\n",
      "    - Complemento\n",
      "    - Conjunto das partes\n",
      "    - Produto cartesiano\n",
      "    - Uni\u00e3o disjunta\n",
      "\n",
      "\u00c9 poss\u00edvel estabelecer uma rela\u00e7\u00e3o entre a l\u00f3gica e as opera\u00e7\u00f5es da \u00e1lgebra de conjuntos:\n",
      "\n",
      "|Conectivo ou rela\u00e7\u00e3o l\u00f3gicos|Opera\u00e7\u00e3o ou rela\u00e7\u00e3o sobre conjuntos|\n",
      "|------------|-----------|\n",
      "|Nega\u00e7\u00e3o     |Complemento|\n",
      "|Disjun\u00e7\u00e3o   |Uni\u00e3o      |\n",
      "|Conjun\u00e7\u00e3o   |Intersec\u00e7\u00e3o|\n",
      "|Implica\u00e7\u00e3o  |Contin\u00eancia|\n",
      "|Equival\u00eancia|Igualdade  |\n",
      "\n",
      "As propriedades dos conectivos e operadores l\u00f3gicos s\u00e3o v\u00e1lidas na teoria dos conjuntos, como mostrado a seguir:\n",
      "\n",
      "|Conectivo l\u00f3gico|Opera\u00e7\u00e3o sobre conjuntos|\n",
      "|---|---|\n",
      "|**Idempot\u00eancia:** $\\wedge$ e $\\lor$|idmpot\u00eancia: intersec\u00e7\u00e3o e uni\u00e3o|\n",
      "|**Comutativa:** $\\wedge$ e $\\lor$  |comutativa: intersec\u00e7\u00e3o e uni\u00e3o |\n",
      "|**Associativa:** $\\wedge$ e $\\lor$ |associativa: intersec\u00e7\u00e3o e uni\u00e3o|\n",
      "|**Distributiva:**<br>$\\wedge$ sobre $\\lor$<br>$\\lor$ sobre $\\wedge$ | distributiva:<br>intersec\u00e7\u00e3o sobre uni\u00e3o<br>uni\u00e3o sobre intersec\u00e7\u00e3o|\n",
      "|**Dupla nega\u00e7\u00e3o**|duplo complemento|\n",
      "|**DeMorgan**|DeMorgan|\n",
      "|**absor\u00e7\u00e3o**|absor\u00e7\u00e3o|"
     ]
    },
    {
     "cell_type": "heading",
     "level": 2,
     "metadata": {},
     "source": [
      "Opera\u00e7\u00f5es n\u00e3o revers\u00edveis"
     ]
    },
    {
     "cell_type": "heading",
     "level": 3,
     "metadata": {},
     "source": [
      "Uni\u00e3o"
     ]
    },
    {
     "cell_type": "markdown",
     "metadata": {},
     "source": [
      "Sejam $A$ e $B$ dois conjuntos. A uni\u00e3o entre eles, $A \\cup B$, \u00e9 definida como:\n",
      "\n",
      "$A \\cup B = \\{x | x \\in A \\lor x \\in B\\}$\n",
      "\n",
      "Considerando a l\u00f3gica, o conjunto $A$ pode ser definido como $x \\in A$. O conjunto $B$ pode ser definido como $x \\in B$. Ou seja, a propriedade de perti\u00eancia \u00e9 utilizada para indicar uma proposi\u00e7\u00e3o l\u00f3gica.\n",
      "\n",
      "A uni\u00e3o corresponde \u00e0 opera\u00e7\u00e3o l\u00f3gica *disjun\u00e7\u00e3o* (s\u00edmbolo $\\lor$).\n",
      "\n",
      "**Exemplo:**\n",
      "Considere os conjuntos:\n",
      "- $\\mbox{Digitos} = \\{0, 1, 2, 3, 4, 5, 6, 7, 8, 9\\}$\n",
      "- $\\mbox{Vogais} = \\{a, e, i, o, u\\}$\n",
      "- $\\mbox{Pares} = \\{0, 2, 4, 6, ...\\}$\n",
      "\n",
      "Ent\u00e3o:\n",
      "\n",
      "- $\\mbox{Digitos} \\cup \\mbox{Vogais} = \\{0, 1, 2, 3, 4, 5, 6, 7, 8, 9, a, e, i, o, u\\}$\n",
      "- $\\mbox{Digitos} \\cup \\mbox{Pares} = \\{0, 1, 2, 3, 4, 5, 6, 7, 8, 9, 10, 12, 14, 16, ...\\}$\n",
      "\n",
      "**Exemplo:**\n",
      "Suponha os conjuntos:\n",
      "- $A = \\{x \\in N | x > 2\\}$\n",
      "- $B = \\{x \\in N | x^2 = x\\}$\n",
      "\n",
      "Ent\u00e3o:\n",
      "- $A \\cup B = \\{0, 1, 3, 4, 5, 6, ...\\}$\n",
      "\n",
      "**\u00c9 importante** observar que o resultado da uni\u00e3o \u00e9 um conjunto sem repeti\u00e7\u00f5es de elementos.\n",
      "\n",
      "Vejamos as propriedades da uni\u00e3o:\n",
      "- **Elemento neutro**: $A \\cup \\emptyset = \\emptyset \\cup A = A$\n",
      "- **Idempot\u00eancia**: $A \\cup A = A$\n",
      "- **Comutativa**: $A \\cup B = B \\cup A$\n",
      "- **Associativa**: $A \\cup (B \\cup C) = (A \\cup B) \\cup C$\n",
      "\n",
      "**Prova da propriedade *elemento neutro***\n",
      "Elemento neutro: $A \\cup \\emptyset = \\emptyset \\cup A = A$.\n",
      "\n",
      "Assim, h\u00e1 duas igualdades, que podem ser analisadas considerando a validade da transitividade [da igualdade]. Assim, temos que observar alguns casos. \n",
      "\n",
      "**(A) Para provar $A \\cup \\emptyset = \\emptyset \\cup A$**:\n",
      "\n",
      "*O primeiro caso (1)*: Seja $x \\in A \\cup \\emptyset$. Ent\u00e3o devemos provar que $A \\cup \\emptyset \\subseteq \\emptyset \\cup A$:\n",
      "- $x \\in A \\cup \\emptyset \\implies$ (defini\u00e7\u00e3o de uni\u00e3o)\n",
      "- $x \\in A \\lor x \\in \\emptyset \\implies$ (comutatividade da disjun\u00e7\u00e3o)\n",
      "- $x \\in \\emptyset \\lor x \\in A \\implies$ (defini\u00e7\u00e3o de uni\u00e3o)\n",
      "- $x \\in \\emptyset \\cup A$\n",
      "\n",
      "Portanto, $A \\cup \\emptyset \\subseteq \\emptyset \\cup A$.\n",
      "\n",
      "*O segundo caso (2)*: Seja $x \\in \\emptyset \\cup A$. Ent\u00e3o devemos provar que $\\emptyset \\cup A \\subseteq A \\cup \\emptyset$:\n",
      "- $x \\in \\emptyset \\cup A \\implies$ (defini\u00e7\u00e3o de uni\u00e3o)\n",
      "- $x \\in \\emptyset \\lor x \\in A \\implies$ (comutatividade da disjun\u00e7\u00e3o)\n",
      "- $x \\in A \\lor x \\in \\emptyset \\implies$ (defini\u00e7\u00e3o de uni\u00e3o)\n",
      "- $x \\in A \\cup \\emptyset$\n",
      "\n",
      "Portanto, $\\emptyset \\cup A = A \\cup \\emptyset$.\n",
      "\n",
      "*Terceiro caso (3)*: De (1) e (2) conclu\u00edmos que $A \\cup \\emptyset = \\emptyset \\cup A$.\n",
      "\n",
      "**(B) Para provar $A \\cup \\emptyset = A$**:\n",
      "\n",
      "*Quarto caso (4)*: Seja $x \\in A \\cup \\emptyset$. Ent\u00e3o devemos provar que $A \\cup \\emptyset \\subseteq A$:\n",
      "- $x \\in A \\cup \\emptyset \\implies$ (defini\u00e7\u00e3o de uni\u00e3o)\n",
      "- $x \\in A \\lor x \\in \\emptyset \\implies$ ($x \\in \\emptyset$ \u00e9 sempre *false*)\n",
      "- $x \\in A$\n",
      "\n",
      "Portanto, $A \\cup \\emptyset \\subseteq A$.\n",
      "\n",
      "*Quinto caso (5)*: Seja $x \\in A$. Ent\u00e3o devemos provar que $A \\subseteq A \\cup \\emptyset$:\n",
      "- $x \\in A \\implies$ ($x \\in A$ \u00e9 sempre *true*, portanto podemos considerar $p \\implies p \\lor q)$\n",
      "- $x \\in A \\lor x \\in \\emptyset$ (defini\u00e7\u00e3o de uni\u00e3o)\n",
      "- $x \\in A \\cup \\emptyset$\n",
      "\n",
      "Portanto, $A \\subseteq A \\cup \\emptyset$.\n",
      "\n",
      "*Sexto caso (6)*: De (4) e (5) conclu\u00edmos que $A \\cup \\emptyset = A$.\n",
      "\n",
      "*S\u00e9timo caso (7)*: Por fim, de (3) e (6) e pela transitividade da igualdade, conclu\u00edmos que $A \\cup \\emptyset = \\emptyset \\cup A = A$ e provamos a propriedade do *elemento neutro* da uni\u00e3o.\n",
      "\n",
      "**Exerc\u00edcio 2.1**: Prove as propriedades idempot\u00eancia, comutativa e associativa da uni\u00e3o."
     ]
    },
    {
     "cell_type": "code",
     "collapsed": false,
     "input": [
      "import pylab as plt\n",
      "from matplotlib_venn import venn2, venn2_circles\n",
      "set1 = set([1,2,3])\n",
      "set2 = set([3,4,5])\n",
      "venn2([set1, set2], ('A', 'B'))\n",
      "plt.show()"
     ],
     "language": "python",
     "metadata": {},
     "outputs": [
      {
       "metadata": {},
       "output_type": "display_data",
       "png": "[encoded data removed]",
       "text": [
        "<matplotlib.figure.Figure at 0xc1d16d0>"
       ]
      }
     ],
     "prompt_number": 17
    },
    {
     "cell_type": "heading",
     "level": 3,
     "metadata": {},
     "source": [
      "Intersec\u00e7\u00e3o"
     ]
    },
    {
     "cell_type": "markdown",
     "metadata": {},
     "source": [
      "Sejam dois conjuntos $A$ e $B$. A interserc\u00e7\u00e3o entre eles, $A \\cap B$ \u00e9 definida como:\n",
      "\n",
      "$A \\cap B = \\{x | x \\in A \\wedge x \\in B\\}$\n",
      "\n",
      "A uni\u00e3o corresponde \u00e0 opera\u00e7\u00e3o l\u00f3gica *conjun\u00e7\u00e3o* (s\u00edmbolo $\\wedge$).\n",
      "\n",
      "Sejam $A$ e $B$ dois conjuntos n\u00e3o vazios. Se $A \\cap B = \\emptyset$, ent\u00e3o $A$ e $B$ s\u00e3o chamados *conjuntos disjuntos*, *conjuntos independentes*, ou *conjuntos mutuamente exclusivos*.\n",
      "\n",
      "**Exemplo:**\n",
      "Considere os conjuntos:\n",
      "- $\\mbox{Digitos} = \\{0, 1, 2, 3, 4, 5, 6, 7, 8, 9\\}$\n",
      "- $\\mbox{Vogais} = \\{a, e, i, o, u\\}$\n",
      "- $\\mbox{Pares} = \\{0, 2, 4, 6, ...\\}$\n",
      "\n",
      "Ent\u00e3o:\n",
      "- $\\mbox{Digitos} \\cap \\mbox{Vogais} = \\emptyset$\n",
      "- $\\mbox{Digitos} \\cap \\mbox{Pares} = \\{0, 2, 4, 6, 8\\}$\n",
      "\n",
      "Vejamos as propriedades da intersec\u00e7\u00e3o:\n",
      "- **Elemento neutro**: $A \\cap U = U \\cap A = A$\n",
      "- **Idempot\u00eancia**: $A \\cap A = A$\n",
      "- **Comutativa**: $A \\cap B = B \\cap A$\n",
      "- **Associativa**: $A \\cap (B \\cap C) = (A \\cap B) \\cap C$"
     ]
    },
    {
     "cell_type": "heading",
     "level": 3,
     "metadata": {},
     "source": [
      "Propriedades envolvendo uni\u00e3o e intersec\u00e7\u00e3o"
     ]
    },
    {
     "cell_type": "markdown",
     "metadata": {},
     "source": [
      "As propriedades a seguir envolvem as opera\u00e7\u00f5es de uni\u00e3o e intersec\u00e7\u00e3o:\n",
      "- **Distributividade da intersec\u00e7\u00e3o sobre a uni\u00e3o**: $A \\cap (B \\cup C) = (A \\cap B) \\cup (A \\cap C)$\n",
      "- **Distributividade da uni\u00e3o sobre a intersec\u00e7\u00e3o**: $A \\cup (B \\cap C) = (A \\cup B) \\cap (A \\cup C)$\n",
      "- **Absor\u00e7\u00e3o**: $A \\cap (A \\cup B) = A$ e $A \\cup (A \\cap B) = A$."
     ]
    },
    {
     "cell_type": "markdown",
     "metadata": {},
     "source": [
      "**Exerc\u00edcio 2.2**: Algumas linguagens de programa\u00e7\u00e3o possuem estruturas de dados para conjuntos, as quais disponibilizam, tamb\u00e9m, opera\u00e7\u00f5es sobre estes. Fa\u00e7a uma pesquisa sobre linguagens de programa\u00e7\u00e3o e, selecionando uma linguagem de programa\u00e7\u00e3o que suporte defini\u00e7\u00e3o de conjuntos e opera\u00e7\u00f5es sobre eles, apresente exemplos, contemplando as opera\u00e7\u00f5es e propriedades vistas at\u00e9 o momento (e.g. perti\u00eancia, conting\u00eancia, uni\u00e3o e intersec\u00e7\u00e3o).\n",
      "\n",
      "**Exerc\u00edcio 2.3**: Considerando uma linguagem de programa\u00e7\u00e3o que forne\u00e7a suporte a conjuntos e opera\u00e7\u00f5es sobre eles, crie um programa que leia conjuntos em arquivos texto (um elemento do conjunto em cada linha) e gere a sa\u00edda tamb\u00e9m em um arquivo texto (tamb\u00e9m um elemento em cada linha). O programa deve considerar e demonstrar a utiliza\u00e7\u00e3o das opera\u00e7\u00f5es e propriedades vistas at\u00e9 o momento (e.g. perti\u00eancia, conting\u00eancia, uni\u00e3o e intersec\u00e7\u00e3o).\n",
      "\n",
      "**Exerc\u00edcio 2.4**: Suponha o conjunto universo $S = \\{p, q, r, s, t, u, v, w\\}$ bem como os seguintes conjuntos: \n",
      "- $A = \\{p, q, r, s\\}$\n",
      "- $B = \\{r, t, v\\}$\n",
      "- $C = \\{p, s, t, u\\}$\n",
      "\n",
      "Determine:\n",
      "\n",
      "a) $B \\cap C$\n",
      "\n",
      "b) $A \\cup C$\n",
      "\n",
      "c) $\\sim{C}$\n",
      "\n",
      "d) $A \\cap B \\cap C$\n",
      "\n",
      "e) $\\sim(A \\cup B)$\n",
      "\n",
      "f) $(A \\cup B) \\cap \\sim{C}$"
     ]
    },
    {
     "cell_type": "heading",
     "level": 2,
     "metadata": {},
     "source": [
      "Opera\u00e7\u00f5es revers\u00edveis"
     ]
    },
    {
     "cell_type": "markdown",
     "metadata": {},
     "source": [
      "> Entende-se por opera\u00e7\u00e3o revers\u00edvel uma opera\u00e7\u00e3o a partir de cujo resultado pode-se recuperar os operandos originais."
     ]
    },
    {
     "cell_type": "heading",
     "level": 3,
     "metadata": {},
     "source": [
      "Complemento"
     ]
    },
    {
     "cell_type": "markdown",
     "metadata": {},
     "source": [
      "Considerando o conjunto universo $U$. O complemento de um conjunto $A \\subseteq U$, denotado por $\\sim{A}$ \u00e9 definido como:\n",
      "\n",
      "\\begin{align*}\n",
      "\\sim{A} = \\{x \\in U | x \\notin A \\}\n",
      "\\end{align*}\n",
      "\n",
      "**Exemplos**\n",
      "\n",
      "1. Considere o conjunto universo definido por $\\mbox{Digitos} = \\{0, 1, 2, ..., 9\\}$. Seja $A = \\{0, 1, 2\\}$. Ent\u00e3o, $\\sim{A} = \\{3, 4, 5, 6, 7, 8, 9\\}$.\n",
      "\n",
      "2. Suponha conjunto universo $\\mathbb{N}$. Seja $A = \\{0, 1, 2\\}$. Ent\u00e3o, $\\sim{A} = \\{x \\in \\mathbb{N} | x \\gt 2\\}$.\n",
      "\n",
      "3. Para qualquer conjunto universo $U$, valem:\n",
      "    1. $\\sim{\\emptyset} = U$\n",
      "    2. $\\sim{U} = \\emptyset$\n",
      "\n",
      "4. Suponha que $U$ \u00e9 o conjunto universo. Ent\u00e3o, para qualquer conjunto $A \\subseteq U$, valem:\n",
      "    1. $A \\cup \\sim{A} = U$\n",
      "    2. $A \\cap \\sim{A} = \\emptyset$\n",
      "    \n",
      "Neste \u00faltimo exemplo, observe que:\n",
      "- a uni\u00e3o de um conjunto com seu complemento sempre resulta no conjunto universo ($p \\lor \\sim{p} = \\mbox{Verdadeiro}$); e\n",
      "- a intersec\u00e7\u00e3o de um conjunto com seu complemento sempre resulta no conjunto vazio ($p \\wedge \\sim{p} = \\mbox{Falso}$).\n",
      "\n",
      "Tamb\u00e9m vale a no\u00e7\u00e3o e *duplo complemento* (ou *dupla nega\u00e7\u00e3o*), ou seja:\n",
      "\n",
      "\\begin{align*}\n",
      "\\sim\\sim{A} = A\n",
      "\\end{align*}\n",
      "\n",
      "A propriedade denominada **DeMorgan** vale-se do complemento, envolvendo as opera\u00e7\u00f5es de uni\u00e7\u00e3o e interse\u00e7\u00e3o, como mostra a tabela a seguir.\n",
      "\n",
      "| DeMorgan na \u00c1lgebra de conjuntos        | Propriedade DeMorgan na L\u00f3gica                             |\n",
      "|-----------------------------------------|------------------------------------------------------------|\n",
      "| $\\sim(A \\cup B) = \\sim{A} \\cap \\sim{B}$ | $\\lnot(p \\lor q) \\Leftrightarrow \\lnot{p} \\wedge \\lnot{q}$ |\n",
      "| $\\sim(A \\cap B) = \\sim{A} \\cup \\sim{B}$ | $\\lnot(p \\wedge q) \\Leftrightarrow \\lnot{p} \\lor \\lnot{q}$ |"
     ]
    },
    {
     "cell_type": "heading",
     "level": 3,
     "metadata": {},
     "source": [
      "Diferen\u00e7a"
     ]
    },
    {
     "cell_type": "markdown",
     "metadata": {},
     "source": [
      "Sejam os conjuntos $A$ e $B$. A diferen\u00e7a dos conjuntos $A$ e $B$, denotada por $A - B$ \u00e9 definida como:\n",
      "\n",
      "\\begin{align*}\n",
      "A - B = A \\cap \\sim{B}\n",
      "\\end{align*}\n",
      "\n",
      "ou\n",
      "\n",
      "\\begin{align*}\n",
      "A - B = \\{x | x \\in A \\wedge x \\notin B \\}\n",
      "\\end{align*}\n",
      "\n",
      "**Exemplos**\n",
      "1. Suponha os conjuntos: $\\mbox{Digitos} = \\{0, 1, 2, ..., 9\\}$, $\\mbox{Vogais} = \\{a, e, i, o, u\\}$ e $\\mbox{Pares} = \\{0, 2, 4, 6, ...\\}$. Utilizando a diferen\u00e7a, temos:\n",
      "    1. $\\mbox{Digitos} - \\mbox{Vogais} = \\mbox{Digitos}$\n",
      "    2. $\\mbox{Digitos} - \\mbox{Pares} = \\{1, 3, 5, 7, 9\\}$\n",
      "2. Para qualquer conjunto universo $U$ e qualquer $A \\subseteq U$, valem:\n",
      "    1. $\\emptyset - \\emptyset = \\emptyset$\n",
      "    2. $U - \\emptyset = U$\n",
      "    3. $U - A = \\sim{A}$\n",
      "    4. $U - U = \\emptyset$\n",
      "    \n"
     ]
    },
    {
     "cell_type": "heading",
     "level": 3,
     "metadata": {},
     "source": [
      "Conjunto das partes"
     ]
    },
    {
     "cell_type": "markdown",
     "metadata": {},
     "source": [
      "Para qualquer conjunto $A$ sabe-se que:\n",
      "- $A \\subseteq A$\n",
      "- $\\emptyset \\subseteq A$\n",
      "- Para qualquer elemento $a \\in A$, \u00e9 vis\u00edvel que $\\{a\\} \\subseteq A$\n",
      "\n",
      "A opera\u00e7\u00e3o un\u00e1ria chamada *conjunto das partes*, ao ser aplicada ao conjunto $A$ resulta no conjunto de todos os subconjuntos de $A$. Suponha um conjunto $A$. O conjunto das partes de $A$ (ou conjunto pot\u00eancia), denotado por $\\mbox{P}(A)$ ou $2^A$ \u00e9 definido por:\n",
      "\n",
      "\\begin{align*}\n",
      "\\mbox{P}(A) = \\{X | X \\subseteq A \\}\n",
      "\\end{align*}\n",
      "\n",
      "**Exemplos**\n",
      "1. Sejam os conjuntos $A = \\{a\\}$, $B = \\{a, b\\}$, $C = \\{a, b, c\\}$ e $D = \\{a, \\emptyset, \\{a, b\\}\\}$, ent\u00e3o:\n",
      "    1. $\\mbox{P}(\\emptyset) = \\{\\emptyset\\}$\n",
      "    2. $\\mbox{P}(A) = \\{\\emptyset, \\{a\\}\\}$\n",
      "    3. $\\mbox{P}(B) = \\{\\emptyset, \\{a\\}, \\{b\\}, \\{a, b\\}\\}$\n",
      "    4. $\\mbox{P}(C) = \\{\\emptyset, \\{a\\}, \\{b\\}, \\{c\\}, \\{a, b\\}, \\{a, c\\}, \\{b, c\\}, \\{a, b, c\\}\\}$\n",
      "    5. $\\mbox{P}(D) = \\{\\emptyset, \\{a\\}, \\{\\emptyset\\}, \\{\\{a, b\\}\\}, \\{a, \\emptyset\\}, \\{a, \\{a, b\\}\\}, \\{\\emptyset, \\{a,b\\}\\}, \\{a, \\emptyset, \\{a, b\\}\\} \\}$\n",
      "    \n",
      "    "
     ]
    },
    {
     "cell_type": "heading",
     "level": 3,
     "metadata": {},
     "source": [
      "Produto Cartesiano"
     ]
    },
    {
     "cell_type": "markdown",
     "metadata": {},
     "source": [
      "> A opera\u00e7\u00e3o produto cartesiano \u00e9 uma opera\u00e7\u00e3o bin\u00e1ria que, quando aplicada a dois conjuntos $A$ e $B$ resulta em um conjunto constitu\u00eddo de sequ\u00eancias de duas componentes (tuplas), sendo que a primeira componente de cada sequ\u00eancia \u00e9 um elemento de $A$, e a segunda componente, um elemento de $B$.\n",
      "\n",
      "> Uma sequ\u00eancia de $n$ componentes, denominada *$n$-upla ordenada*, consiste de $n$ objetos (n\u00e3o necessariamente distintos) em uma ordem fixa. Por exemplo, uma 2-upla ordenada \u00e9 denominada *par ordenado*. Um par ordenado no qual a primeira componente \u00e9 $x$ e a segunda \u00e9 $y$ \u00e9 definido como $\\langle x, y \\rangle$.\n",
      "\n",
      "Uma $n$-upla ordenada \u00e9 definida como:\n",
      "\n",
      "\\begin{align*}\n",
      "\\langle x_1, x_2, x_3, ..., x_n \\rangle\n",
      "\\end{align*}\n",
      "\n",
      "Uma $n$-upla ordenada n\u00e3o deve ser confundida com um conjunto, pois a ordem das componentes \u00e9 importante. Assim:\n",
      "\n",
      "\\begin{align*}\n",
      "\\langle x, y \\rangle \\neq \\langle y, x \\rangle\n",
      "\\end{align*}\n",
      "\n",
      "O produto cartesiano dos conjuntos $A$ e $B$, denotado por $A \\times B$ \u00e9 definido por:\n",
      "\n",
      "\\begin{align*}\n",
      "A \\times B = \\{ \\langle a, b \\rangle | a \\in A \\wedge b \\in B \\}\n",
      "\\end{align*}\n",
      "\n",
      "O produto cartesiano de um conjunto com ele mesmo \u00e9 definido por $A \\times A = A^2$\n",
      "\n",
      "**Exemplos**\n",
      "Sejam os conjuntos $A = \\{a\\}$, $B = \\{a, b\\}$ e $C = \\{0, 1, 2\\}$. Ent\u00e3o:\n",
      "1. $A \\times B = \\{ \\langle a, a \\rangle, \\langle a, b \\rangle \\}$\n",
      "2. $B \\times C = \\{ \\langle a, 0 \\rangle, \\langle a, 1 \\rangle, \\langle a, 2 \\rangle, \\langle b, 0 \\rangle, \\langle b, 1 \\rangle, \\langle b, 2\\rangle \\}$\n",
      "3. $A^2 = \\{ \\langle a, a \\rangle \\}$\n",
      "\n",
      "**Exerc\u00edcio 2.5**: Considere os conjuntos $A = \\{a\\}$, $B = \\{a, b\\}$ e $C = \\{0, 1, 2\\}$. Calcule os seguintes produtos cartesianos:\n",
      "1. $(A \\times B) \\times C$\n",
      "2. $A \\times (B \\times C)$\n",
      "3. $B^2$\n",
      "4. $C^2$"
     ]
    },
    {
     "cell_type": "heading",
     "level": 3,
     "metadata": {},
     "source": [
      "Uni\u00e3o disjunta"
     ]
    },
    {
     "cell_type": "markdown",
     "metadata": {},
     "source": [
      "Diferentemente da *uni\u00e3o*, que desconsidera repeti\u00e7\u00f5es de elementos no conjunto resultante, a *uni\u00e3o disjunta* permite que os elementos do conjunto resultante sejam duplicados, uma vez que seja identificada a sua fonte. A *uni\u00e3o disjunta* dos conjuntos $A$ e $B$, denotada por $A + B$ ou $A \\dot\\cup\\ B$ \u00e9 definida como:\n",
      "\n",
      "\\begin{align*}\n",
      "A + B = \\{ \\langle a, A \\rangle | a \\in A\\} \\cup \\{ \\langle b, B \\rangle | b \\in B\\}\n",
      "\\end{align*}\n",
      "\n",
      "ou\n",
      "\n",
      "\\begin{align*}\n",
      "A + B = \\{ a_A | a \\in A\\} \\cup \\{ b_B | b \\in B\\}\n",
      "\\end{align*}\n",
      "\n",
      "**Exemplo**\n",
      "1. Suponha os conjuntos $\\mbox{Silva} = \\{\\mbox{Jo\u00e3o}, \\mbox{Maria}, \\mbox{Jos\u00e9}\\}$ e $\\mbox{Souza} = \\{\\mbox{Pedro}, \\mbox{Ana}, \\mbox{Jos\u00e9}\\}$. Ent\u00e3o:\n",
      "    1. $\\mbox{Silva} + \\mbox{Souza} = \\{ \\langle \\mbox{Jo\u00e3o}, \\mbox{Silva} \\rangle, \\langle \\mbox{Maria}, \\mbox{Silva} \\rangle, \\langle \\mbox{Jos\u00e9}, \\mbox{Silva} \\rangle, \\langle \\mbox{Pedro}, \\mbox{Souza} \\rangle, \\langle \\mbox{Ana}, \\mbox{Souza} \\rangle, \\langle \\mbox{Jos\u00e9}, \\mbox{Souza} \\rangle \\}$ ou \n",
      "    2. $\\mbox{Silva} + \\mbox{Souza} = \\{ \\mbox{Jo\u00e3o}_{\\mbox{Silva}}, \\mbox{Maria}_\\mbox{Silva}, \\mbox{Jos\u00e9}_\\mbox{Silva}, \\mbox{Pedro}_\\mbox{Souza}, \\mbox{Ana}_\\mbox{Souza}, \\mbox{Jos\u00e9}_\\mbox{Souza} \\}$\n",
      "    \n",
      "**Exerc\u00edcio 2.6**: Considere os conjuntos $D = \\{0, 1, 2, ..., 9\\}$, $V = \\{a, e, i, o, u\\}$, e $P = \\{0, 2, 4, 6, ...\\}$. Ent\u00e3o, encontre:\n",
      "1. $D + V$\n",
      "2. $D + P$\n",
      "3. $V + V$\n",
      "4. $V + \\emptyset$\n",
      "\n",
      "**Exerc\u00edcio 2.7**: Utilizando um banco de dados relacional, crie duas tabelas: *Palavras1* e *Palavras2*, respectivamente. Utilizando linguagem SQL, crie e apresente o resultado de uma consulta que realiza o produto cartesiano entre as duas tabelas.\n",
      "\n",
      "**Exerc\u00edcio 2.8**: Crie um programa que l\u00ea $n$ arquivos de entrada. Cada arquivo cont\u00e9m uma palavra em cada linha. O programa deve ler os  arquivos e gerar um arquivo de sa\u00edda chamado *pc.txt* contendo o produto cartesiano entre as palavras dos arquivos de entrada. Cada linha do arquivo de sa\u00edda deve representar um elemento do produto cartesiano (uma $n$-upla) cujos componentes devem estar separados por um espa\u00e7o [em branco].\n",
      "\n",
      "Exemplo: Para os arquivos de entrada:\n",
      "\n",
      "|palavras1.txt|\n",
      "|-------------|\n",
      "|jose|\n",
      "|maria|\n",
      "\n",
      "|palavras2.txt|\n",
      "|-------------|\n",
      "|silva|\n",
      "|santos|\n",
      "\n",
      "|palavras3.txt|\n",
      "|-------------|\n",
      "|moreira|\n",
      "|aires|\n",
      "\n",
      "O arquivo resultante\n",
      "\n",
      "|pc.txt|\n",
      "|---------------|\n",
      "|jose silva moreira|\n",
      "|jose silva aires|\n",
      "|jose santos moreira|\n",
      "|jose santos aires|\n",
      "|maria silva moreira|\n",
      "|maria silva aires|\n",
      "|maria santos moreira|\n",
      "|maria santos aires|"
     ]
    }
   ],
   "metadata": {}
  }
 ]
}